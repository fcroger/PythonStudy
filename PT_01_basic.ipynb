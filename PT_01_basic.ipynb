{
 "cells": [
  {
   "cell_type": "markdown",
   "metadata": {},
   "source": [
    "# <center>Python基础</center>"
   ]
  },
  {
   "cell_type": "markdown",
   "metadata": {},
   "source": [
    "### 0.用什么编写Python代码，如何运行？\n",
    "- Jupyter Notebook\n",
    "- IDE，比如VSCode\n",
    "- 命令行"
   ]
  },
  {
   "cell_type": "markdown",
   "metadata": {},
   "source": [
    "### 1.什么是python语句？什么是代码注释？如何在屏幕上输出Hello world！"
   ]
  },
  {
   "cell_type": "code",
   "execution_count": 40,
   "metadata": {},
   "outputs": [
    {
     "name": "stdout",
     "output_type": "stream",
     "text": [
      "Hello world!\n"
     ]
    }
   ],
   "source": [
    "# 注释\n",
    "print(\"Hello world!\") #打印语句\n",
    "# Ctrl+ Enter运行代码"
   ]
  },
  {
   "cell_type": "markdown",
   "metadata": {},
   "source": [
    "### 2.Python可以做数学的事情"
   ]
  },
  {
   "cell_type": "code",
   "execution_count": 41,
   "metadata": {
    "scrolled": false
   },
   "outputs": [
    {
     "name": "stdout",
     "output_type": "stream",
     "text": [
      "1+2= 3\n",
      "1-2= -1\n",
      "1*2= 2\n",
      "1/2= 0.5\n",
      "1%2= 1\n",
      "1**2= 1\n",
      "11\n"
     ]
    }
   ],
   "source": [
    "#python语言支持四则运算符\n",
    "#支持整数和小数运算\n",
    "print(\"1+2=\",1+2)\n",
    "print(\"1-2=\",1-2)\n",
    "print(\"1*2=\",1*2) #乘法 * \n",
    "print(\"1/2=\",1/2) #除法 /\n",
    "print(\"1%2=\",1%2) #余数\n",
    "print(\"1**2=\",1**2) #幂\n",
    "print((1+3)*4-5) #通过括号确定优先级"
   ]
  },
  {
   "cell_type": "markdown",
   "metadata": {},
   "source": [
    "### 3. 什么是变量？什么是数据类型？"
   ]
  },
  {
   "cell_type": "code",
   "execution_count": 42,
   "metadata": {},
   "outputs": [
    {
     "name": "stdout",
     "output_type": "stream",
     "text": [
      "age1 20\n",
      "age2 30\n",
      "sum 50\n"
     ]
    }
   ],
   "source": [
    "#变量， 是一个值的名字。\n",
    "age1 = 20 #定义一个变量age， 赋值给他 20\n",
    "age2 = 30\n",
    "sum3= age1+age2\n",
    "print('age1',age1)\n",
    "print('age2',age2)\n",
    "print('sum',sum3)"
   ]
  },
  {
   "cell_type": "code",
   "execution_count": 43,
   "metadata": {},
   "outputs": [
    {
     "data": {
      "text/plain": [
       "str"
      ]
     },
     "execution_count": 43,
     "metadata": {},
     "output_type": "execute_result"
    }
   ],
   "source": [
    "#数值可以有名字，各国语言里的词语、语句也可以有名字\n",
    "name = 'roger'\n",
    "age = 2\n",
    "type(name)"
   ]
  },
  {
   "cell_type": "code",
   "execution_count": 44,
   "metadata": {},
   "outputs": [
    {
     "name": "stdout",
     "output_type": "stream",
     "text": [
      "2\n"
     ]
    }
   ],
   "source": [
    "#变量命名规则\n",
    "#第一个字符是字母或者下划线\n",
    "#其他字符是 字母、数字、下划线\n",
    "#大小写敏感\n",
    "# 系统保留字不能用\n",
    "hao_ren=2\n",
    "print(hao_ren)"
   ]
  },
  {
   "cell_type": "code",
   "execution_count": 45,
   "metadata": {
    "scrolled": true
   },
   "outputs": [
    {
     "name": "stdout",
     "output_type": "stream",
     "text": [
      "<class 'int'>\n",
      "20\n",
      "20.0\n",
      "1010\n"
     ]
    }
   ],
   "source": [
    "#变量赋值后就具有数据类型， 不同数据类型python支持的操作不一样，操作语义不一样\n",
    "#因此写代码时一定要清楚一个变量的数据类型，从名字无法判断\n",
    "var1= 10 #整数，整形 int\n",
    "print(type(var1))\n",
    "print(var1+var1)\n",
    "var2= float(10) #小数，浮点型 float\n",
    "print(var2+var2)\n",
    "var3= '10' #文本，字符串 str\n",
    "print(var3+var3)\n",
    "\n",
    "#分类和命名，是科学方法的两大法宝。"
   ]
  },
  {
   "cell_type": "markdown",
   "metadata": {},
   "source": [
    "#### Python: 6种基本数据类型\n",
    "1. Number（数字）:整数、小数、复数、布尔\n",
    "2. String（字符串）\n",
    "3. List（列表）\n",
    "4. Tuple（元组）\n",
    "5. Set（集合）\n",
    "6. Dictionary（字典）"
   ]
  },
  {
   "cell_type": "markdown",
   "metadata": {},
   "source": [
    "### 4.Python可以做语文的事情"
   ]
  },
  {
   "cell_type": "code",
   "execution_count": 46,
   "metadata": {},
   "outputs": [
    {
     "name": "stdout",
     "output_type": "stream",
     "text": [
      "Hello world!\n",
      "Hello world!\n"
     ]
    },
    {
     "data": {
      "text/plain": [
       "str"
      ]
     },
     "execution_count": 46,
     "metadata": {},
     "output_type": "execute_result"
    }
   ],
   "source": [
    "# python中用字符串数据类型来存储文本数据， 包含各国语言及特殊字符\n",
    "# 字符串的各种操作 可以实现 word中的各种编辑功能\n",
    "str1='Hello world!' # 成对的单引号\n",
    "str2=\"Hello world!\" #成对的双引号\n",
    "print(str1)\n",
    "print(str2)\n",
    "type(str1)"
   ]
  },
  {
   "cell_type": "markdown",
   "metadata": {},
   "source": [
    "#### 4.1选择、复制文本"
   ]
  },
  {
   "cell_type": "code",
   "execution_count": 47,
   "metadata": {},
   "outputs": [
    {
     "name": "stdout",
     "output_type": "stream",
     "text": [
      "b\n",
      "ac\n",
      "abcd\n",
      "abcdefg\n",
      "gfedcb\n"
     ]
    }
   ],
   "source": [
    "# 如何截取字符串的一部分，类似word中选择一段文本，复制\n",
    "#字符串切片\n",
    "str1 ='abcdefg'\n",
    "print(str1[1]) # 读取字符串某个位置的字符。 字符串中字符的位置从0\n",
    "# 从字符串中 截取子串 slice \n",
    "# str[start:end:step] 从start这个位置开始，到end-1 截止， 每次跳step步\n",
    "print(str1[0:4:2])\n",
    "print(str1[0:4])# 默认step=1\n",
    "print(str1[0:]) #end不写表示到字符串的最后\n",
    "print(str1[8:0:-1])"
   ]
  },
  {
   "cell_type": "markdown",
   "metadata": {},
   "source": [
    "#### 4.2替换、搜索定位文本"
   ]
  },
  {
   "cell_type": "code",
   "execution_count": 48,
   "metadata": {
    "scrolled": true
   },
   "outputs": [
    {
     "name": "stdout",
     "output_type": "stream",
     "text": [
      "My name is Xiaoming. He is sad yesterday\n"
     ]
    }
   ],
   "source": [
    "str1 = 'My name was Xiaoming. He was sad yesterday'\n",
    "#字符串替换函数 replace\n",
    "print(str1.replace('was','is')) #全部替换"
   ]
  },
  {
   "cell_type": "code",
   "execution_count": 49,
   "metadata": {},
   "outputs": [
    {
     "data": {
      "text/plain": [
       "'My name was Xiaoming. He is sad yesterday'"
      ]
     },
     "execution_count": 49,
     "metadata": {},
     "output_type": "execute_result"
    }
   ],
   "source": [
    " #先定位，再处理。 替换确定位置的字符串\n",
    "index1 = str1.find(\"was\") #搜索，返回位置，找不到返回-1\n",
    "index2 = str1.find(\"was\",index1+1) #从index1+1这个位置往后找\n",
    "str2 = str1[0:index2]+'is'+str1[index2+3:]\n",
    "str2"
   ]
  },
  {
   "cell_type": "markdown",
   "metadata": {},
   "source": [
    "#### 4.3转义字符， 字符串中反斜杠\\ 有特殊含义"
   ]
  },
  {
   "cell_type": "code",
   "execution_count": 50,
   "metadata": {},
   "outputs": [
    {
     "name": "stdout",
     "output_type": "stream",
     "text": [
      "I am 5 years \n",
      " old!\n",
      "I am 5 years \\r old!\n",
      "He said:'Hello'\n"
     ]
    }
   ],
   "source": [
    "print(\"I am 5 years \\n old!\") # \\n 换行\n",
    "#print(\"I am 5 years \\t old!\") # \\t 制表tab \n",
    "print(r\"I am 5 years \\r old!\") # 字符串前面加上r，转义字符失效\n",
    "print('He said:\\'Hello\\'') #引号前面加 反斜杠"
   ]
  },
  {
   "cell_type": "markdown",
   "metadata": {},
   "source": [
    "#### 4.4格式化字符串，如何按照更好的格式将计算结果输出为字符串？"
   ]
  },
  {
   "cell_type": "code",
   "execution_count": 51,
   "metadata": {},
   "outputs": [
    {
     "name": "stdout",
     "output_type": "stream",
     "text": [
      "我是 小明 我今年 10 岁\n",
      "我是小王,我今年11岁\n",
      "我是 小王,我的体重  120.50斤\n"
     ]
    }
   ],
   "source": [
    "name = \"小明\"\n",
    "age = 10\n",
    "# 我是小明，我今年10岁\n",
    "print(\"我是\",name,\"我今年\",age,\"岁\")\n",
    "print(\"我是%s,我今年%d岁\"%(\"小王\",11))\n",
    "print(\"我是%3s,我的体重%8.2f斤\"%(\"小王\",120.5)) "
   ]
  },
  {
   "cell_type": "markdown",
   "metadata": {},
   "source": [
    "### 5 Python表达对比关系，布尔数据类型。"
   ]
  },
  {
   "cell_type": "code",
   "execution_count": 52,
   "metadata": {},
   "outputs": [
    {
     "name": "stdout",
     "output_type": "stream",
     "text": [
      "True\n",
      "False\n",
      "True\n",
      "False\n",
      "False\n",
      "True\n"
     ]
    },
    {
     "data": {
      "text/plain": [
       "bool"
      ]
     },
     "execution_count": 52,
     "metadata": {},
     "output_type": "execute_result"
    }
   ],
   "source": [
    "#布尔类型\n",
    "# bool： True False\n",
    "# 比较运算法的结果是bool类型的值\n",
    "print(1>0) #\n",
    "print(1<0) #\n",
    "print(1>=0) #\n",
    "print(1<=0) #\n",
    "print(1==0) #等于， = 赋值\n",
    "print(1!=0) #不等于\n",
    "b = 1>0\n",
    "type(b)"
   ]
  },
  {
   "cell_type": "code",
   "execution_count": 53,
   "metadata": {},
   "outputs": [
    {
     "name": "stdout",
     "output_type": "stream",
     "text": [
      "True\n",
      "False\n",
      "False\n",
      "True\n",
      "False\n",
      "False\n",
      "True\n"
     ]
    }
   ],
   "source": [
    " #布尔类型逻辑运算 与and 或or 非not\n",
    "print(True and True)\n",
    "print(True and False)\n",
    "print(False and False)\n",
    "print(True or False)\n",
    "print(False or False)\n",
    "print(not(True))\n",
    "print((True and False) or (False or True))"
   ]
  },
  {
   "cell_type": "code",
   "execution_count": 54,
   "metadata": {},
   "outputs": [
    {
     "data": {
      "text/plain": [
       "False"
      ]
     },
     "execution_count": 54,
     "metadata": {},
     "output_type": "execute_result"
    }
   ],
   "source": [
    "#可以做业务的事情，表示业务规则。\n",
    "(2>1)and(3<4)or(5==6)\n",
    "#定义业务规则，控制逻辑\n",
    "# birthday=='2020-9-5' \n",
    "age = 20\n",
    "gender ='female'\n",
    "(age>18)and (gender=='male') or age<6"
   ]
  },
  {
   "cell_type": "markdown",
   "metadata": {},
   "source": [
    "### 6. 如何在python编写语句表达“在****情况下，进行***计算”？ if/else"
   ]
  },
  {
   "cell_type": "code",
   "execution_count": 55,
   "metadata": {},
   "outputs": [
    {
     "name": "stdout",
     "output_type": "stream",
     "text": [
      "2\n",
      "haha\n",
      "finish\n"
     ]
    }
   ],
   "source": [
    "#如果 ****条件下 ，那么 做*****； 否则 做 #####\n",
    "'''\n",
    "if first_condition: #condition为True，则执行boy; \n",
    "    first_body\n",
    "elif second_condition:\n",
    "    second_body\n",
    "else:\n",
    "    third_body\n",
    "'''\n",
    "#每个语句块都有缩进\n",
    "#每个语句块里的每条语句相同缩进\n",
    "a=2\n",
    "b=1\n",
    "if a>b: #每个condition后面有一个冒号:\n",
    "    print(a) #一个条件满足，执行对应的语句，然后结束整个控制,调到后面代码\n",
    "    print(\"haha\")\n",
    "elif a<b:\n",
    "     print(\"b\")\n",
    "else:\n",
    "     print(\"They are same!\")\n",
    "print(\"finish\")"
   ]
  },
  {
   "cell_type": "markdown",
   "metadata": {},
   "source": [
    "### 7. 如何管理一组数据而不是一个值？list，组合数据类型。"
   ]
  },
  {
   "cell_type": "code",
   "execution_count": 56,
   "metadata": {},
   "outputs": [
    {
     "data": {
      "text/plain": [
       "list"
      ]
     },
     "execution_count": 56,
     "metadata": {},
     "output_type": "execute_result"
    }
   ],
   "source": [
    "#列表 list 数据结构， 序列结构 存储一组数据\n",
    "one_friend='xiao ming'\n",
    "second_friend='xiao qiang'\n",
    "my_friends=['xiao ming','xiao qiang','xiao xing'] #list，list里的数据类型可以不一样\n",
    "type(my_friends)"
   ]
  },
  {
   "cell_type": "code",
   "execution_count": 57,
   "metadata": {},
   "outputs": [
    {
     "name": "stdout",
     "output_type": "stream",
     "text": [
      "1\n",
      "[1, 3]\n"
     ]
    }
   ],
   "source": [
    " #list数据的访问\n",
    "# list 的数据访问和字符串str中字符和子串的访问完全一致\n",
    "list1 = [1,2,3,4,5,6]\n",
    "print(list1[0])\n",
    "print(list1[0:3:2]) #和字符串切片操作一样"
   ]
  },
  {
   "cell_type": "code",
   "execution_count": 58,
   "metadata": {
    "scrolled": false
   },
   "outputs": [
    {
     "name": "stdout",
     "output_type": "stream",
     "text": [
      "[1, 2, 10, 3, 4, 5]\n",
      "[1, 2, 10, 3, 4, 5, 8]\n",
      "[100, 2, 10, 3, 4, 5, 8]\n",
      "[100, 10, 3, 4, 5, 8]\n",
      "[8, 5, 4, 2, 1]\n",
      "[]\n"
     ]
    }
   ],
   "source": [
    "list1=[1,2,3,4,5]\n",
    "list1.insert(2,10) #在指定位置插入\n",
    "print(list1)\n",
    "list1.append(8) #在list最后增加元素\n",
    "print(list1)\n",
    "list1[0]=100 #修改数据\n",
    "print(list1)\n",
    "list1.pop(1) # 1是索引位置，删除数据\n",
    "print(list1)\n",
    "#排序\n",
    "list1 =[1,2,8,4,5]\n",
    "list1.sort(reverse=True)\n",
    "print(list1)\n",
    "#清空一个list\n",
    "list1.clear()\n",
    "print(list1)"
   ]
  },
  {
   "cell_type": "markdown",
   "metadata": {},
   "source": [
    "### 8. 还有哪些管理一组序列数据的数据类型？元组、集合、字典"
   ]
  },
  {
   "cell_type": "code",
   "execution_count": 59,
   "metadata": {},
   "outputs": [
    {
     "name": "stdout",
     "output_type": "stream",
     "text": [
      "(1, 2, 3, 4, 5)\n",
      "{1, 3, 21}\n"
     ]
    }
   ],
   "source": [
    "tuple1=(1,2,3,4,5) #圆括号，元组创建后值不能修改，函数都和list一样\n",
    "print(tuple1)\n",
    "set1={1,21,3} #大括号，集合创建后自动去重，无序\n",
    "print(set1)"
   ]
  },
  {
   "cell_type": "code",
   "execution_count": 60,
   "metadata": {},
   "outputs": [
    {
     "name": "stdout",
     "output_type": "stream",
     "text": [
      "True\n"
     ]
    }
   ],
   "source": [
    "#集合的元素是无序的\n",
    "st = {1, 21, 3}\n",
    "st2 = {3, 21, 1}\n",
    "print(st == st2) "
   ]
  },
  {
   "cell_type": "code",
   "execution_count": 61,
   "metadata": {},
   "outputs": [
    {
     "name": "stdout",
     "output_type": "stream",
     "text": [
      "18\n",
      "{'xiaoming': 18, 'xiao ding': 19, 'xiao qiang': 20}\n"
     ]
    }
   ],
   "source": [
    " ## 字典\n",
    "dic={'xiaoming':18,'xiao ding':19} #大括号，里面是一对 key:value\n",
    "print(dic.get('xiaoming'))\n",
    "dic.setdefault('xiao qiang',20)\n",
    "print(dic)"
   ]
  },
  {
   "cell_type": "markdown",
   "metadata": {},
   "source": [
    "### 9. 如何对一个组数据（一个list中的数据），每一个值进行相同的处理？循环语句for/while"
   ]
  },
  {
   "cell_type": "code",
   "execution_count": 62,
   "metadata": {},
   "outputs": [
    {
     "name": "stdout",
     "output_type": "stream",
     "text": [
      "15\n"
     ]
    }
   ],
   "source": [
    "#for 循环语句\n",
    "'''\n",
    "for <variable> in <sequence>: #有个冒号\n",
    "    <statement> #一个语句块必须有缩进，相同缩进， 和 if elif一样的\n",
    "    <statement>\n",
    "    <statement>\n",
    "else: # for循环执行完，会执行一次 else\n",
    "    <statement>\n",
    "    <statement>\n",
    "    <statement>\n",
    "'''\n",
    "list1=[1,2,3,4,5]\n",
    "sum1=0\n",
    "for num in list1: #对于list，每一次循环，从左往右读取一个元素，赋值给num\n",
    "    sum1=sum1+num #每个循环更新sum1\n",
    "print(sum1)"
   ]
  },
  {
   "cell_type": "code",
   "execution_count": 63,
   "metadata": {},
   "outputs": [
    {
     "name": "stdout",
     "output_type": "stream",
     "text": [
      "for对应的else\n",
      "12\n"
     ]
    }
   ],
   "source": [
    "# 求和的时候遇到3，跳过去，执行后面的计算\n",
    "list1=[1,2,3,4,5]\n",
    "sum1=0\n",
    "for num in list1:\n",
    "    if(num==3):\n",
    "        continue #本轮循环结束，开始下一轮\n",
    "    sum1=sum1+num\n",
    "else:\n",
    "    print(\"for对应的else\")\n",
    "print(sum1)"
   ]
  },
  {
   "cell_type": "code",
   "execution_count": 64,
   "metadata": {},
   "outputs": [
    {
     "name": "stdout",
     "output_type": "stream",
     "text": [
      "3\n"
     ]
    }
   ],
   "source": [
    " # 求和的时候遇到3，就放弃以后所有\n",
    "list1=[1,2,3,4,5]\n",
    "sum1=0\n",
    "for num in list1:\n",
    "    if(num==3):\n",
    "        break #循环终止，调到循环体后面第一行代码\n",
    "    sum1=sum1+num\n",
    "else:\n",
    "    print(\"for对应的else\") # break的适合，这个else也不执行\n",
    "print(sum1)"
   ]
  },
  {
   "cell_type": "code",
   "execution_count": 65,
   "metadata": {},
   "outputs": [
    {
     "name": "stdout",
     "output_type": "stream",
     "text": [
      "for对应的else\n",
      "25\n"
     ]
    }
   ],
   "source": [
    "list1=[1,3,5,7,9]\n",
    "sum1=0\n",
    "for index in range(len(list1)):\n",
    "    sum1=sum1+list1[index]\n",
    "else:\n",
    "    print(\"for对应的else\") # break的适合，这个else也不执行\n",
    "print(sum1)"
   ]
  },
  {
   "cell_type": "markdown",
   "metadata": {},
   "source": [
    "#### while循环语句"
   ]
  },
  {
   "cell_type": "code",
   "execution_count": 66,
   "metadata": {},
   "outputs": [
    {
     "name": "stdout",
     "output_type": "stream",
     "text": [
      "请输入数字 1 、2 或者0来终止程序\n",
      "0\n",
      "关闭机器人\n"
     ]
    }
   ],
   "source": [
    "# while 循环语句\n",
    "#在某种条件下，不停循环执行\n",
    "while(True):\n",
    "    print('请输入数字 1 、2 或者0来终止程序')\n",
    "    var1 = input() # 接受用户的输入值\n",
    "    button=int(var1)\n",
    "    if button ==1 :\n",
    "        print(\"扫地\")\n",
    "    elif button ==2:\n",
    "        print('做饭')\n",
    "    elif button ==0:\n",
    "        break #退出 停止\n",
    "print(\"关闭机器人\")\n"
   ]
  },
  {
   "cell_type": "code",
   "execution_count": null,
   "metadata": {},
   "outputs": [],
   "source": [
    "x=0\n",
    "while(True):\n",
    "    x = x + 43243\n",
    "    print(x)\n",
    "    if x==1869957049:\n",
    "        break"
   ]
  },
  {
   "cell_type": "markdown",
   "metadata": {},
   "source": [
    "### 10. 编写好的一些算法如何 重复调用？函数function"
   ]
  },
  {
   "cell_type": "code",
   "execution_count": 68,
   "metadata": {},
   "outputs": [
    {
     "data": {
      "text/plain": [
       "function"
      ]
     },
     "execution_count": 68,
     "metadata": {},
     "output_type": "execute_result"
    }
   ],
   "source": [
    "def list_sum_func(list1):\n",
    "    sum1=0\n",
    "    for num in list1:\n",
    "        sum1=sum1+num\n",
    "    return sum1\n",
    "type(list_sum_func)"
   ]
  },
  {
   "cell_type": "code",
   "execution_count": 69,
   "metadata": {
    "scrolled": false
   },
   "outputs": [
    {
     "name": "stdout",
     "output_type": "stream",
     "text": [
      "29\n"
     ]
    }
   ],
   "source": [
    "list1=[1,4,6,8,10]\n",
    "sum2=list_sum_func(list1)\n",
    "print(sum2)"
   ]
  },
  {
   "cell_type": "code",
   "execution_count": 70,
   "metadata": {
    "scrolled": false
   },
   "outputs": [
    {
     "name": "stdout",
     "output_type": "stream",
     "text": [
      "6\n",
      "3\n",
      "4\n",
      "4\n"
     ]
    }
   ],
   "source": [
    "# 函数的参数\n",
    "def func1(a,b=2): #b的默认值是2\n",
    "    return a+b\n",
    "print(func1(1,5))\n",
    "print(func1(1))\n",
    "print(func1(a=1,b=3)) \n",
    "print(func1(b=3,a=1)) "
   ]
  },
  {
   "cell_type": "markdown",
   "metadata": {},
   "source": [
    "### 11. 开发的函数如何发给其他人调用？或者在其他代码里调用？ 模块module/包package"
   ]
  },
  {
   "cell_type": "markdown",
   "metadata": {},
   "source": [
    "#### import 与 from...import\n",
    "- 在 python 用 import 或者 from...import 来导入相应的模块。\n",
    "- 将整个模块导入，格式为： import somemodule\n",
    "- 从某个模块中导入某个函数,格式为： from somemodule import somefunction\n",
    "- 从某个模块中导入多个函数,格式为： from somemodule import firstfunc, secondfunc, thirdfunc\n",
    "- 将某个模块中的全部函数导入，格式为： from somemodule import *"
   ]
  },
  {
   "cell_type": "code",
   "execution_count": 71,
   "metadata": {},
   "outputs": [],
   "source": [
    "#将下面的代码粘贴到 新建一个 文件 myfunc.py，保存在 和本notebook文件相同目录\n",
    "#可以新建一个 文本文件 后缀是 txt，修改后缀为 py\n",
    "def changedata100(a):\n",
    "    a=a+100\n",
    "    return a"
   ]
  },
  {
   "cell_type": "code",
   "execution_count": 72,
   "metadata": {},
   "outputs": [
    {
     "name": "stdout",
     "output_type": "stream",
     "text": [
      "105\n"
     ]
    }
   ],
   "source": [
    "import myfunc\n",
    "x = 5\n",
    "y = myfunc.changedata100(x)\n",
    "print(y)"
   ]
  },
  {
   "cell_type": "code",
   "execution_count": 73,
   "metadata": {},
   "outputs": [
    {
     "name": "stdout",
     "output_type": "stream",
     "text": [
      "105\n"
     ]
    }
   ],
   "source": [
    " from myfunc import * #导入 myfunc文件里所有函数\n",
    "x=5\n",
    "y=changedata100(x)\n",
    "print(y)"
   ]
  },
  {
   "cell_type": "markdown",
   "metadata": {},
   "source": [
    "### 12. 如何从硬盘的文件里读取数据，把计算结果写入文件？"
   ]
  },
  {
   "cell_type": "code",
   "execution_count": 74,
   "metadata": {
    "scrolled": true
   },
   "outputs": [
    {
     "name": "stdout",
     "output_type": "stream",
     "text": [
      "this is new line\n",
      "this is second line\n"
     ]
    }
   ],
   "source": [
    " #打开文件\n",
    "fp=open('data\\sample.txt','r') #打开一个文件 r读文件\n",
    "content=fp.read() #把文件内容全部读出来\n",
    "print(content)\n",
    "fp.close()"
   ]
  },
  {
   "cell_type": "code",
   "execution_count": 75,
   "metadata": {},
   "outputs": [
    {
     "name": "stdout",
     "output_type": "stream",
     "text": [
      "this is new line\n",
      "this is second line\n"
     ]
    }
   ],
   "source": [
    "# 第二种打开文件的方法，常用的\n",
    "with open('data\\sample.txt','r') as fp: # 下面的语句块执行完，自动关闭文件\n",
    "    content=fp.read() #把文件内容全部读出来\n",
    "    print(content)"
   ]
  },
  {
   "cell_type": "code",
   "execution_count": 76,
   "metadata": {
    "scrolled": true
   },
   "outputs": [
    {
     "name": "stdout",
     "output_type": "stream",
     "text": [
      "['this is new line\\n', 'this is second line']\n"
     ]
    }
   ],
   "source": [
    "with open('data\\sample.txt','r') as fp: # 下面的语句块执行完，自动关闭文件\n",
    "    content=fp.readlines() #读文件的所有行，按行读，构建list\n",
    "    print(content) "
   ]
  },
  {
   "cell_type": "code",
   "execution_count": 77,
   "metadata": {},
   "outputs": [],
   "source": [
    "#写文件\n",
    "with open('data\\sample.txt','w') as fp: # 打开文件 写文件 w表示已经存在的文件清空 再写，不存在的文件创建\n",
    "    fp.write('this is new line')"
   ]
  },
  {
   "cell_type": "code",
   "execution_count": 78,
   "metadata": {},
   "outputs": [],
   "source": [
    "#写文件 追加内容\n",
    "with open('data\\sample.txt','a') as fp: # a表示追加内容\n",
    "    fp.write('\\nthis is second line')"
   ]
  },
  {
   "cell_type": "markdown",
   "metadata": {},
   "source": [
    "### Excel和word也可以做这些基本数据管理，为什么用python？"
   ]
  },
  {
   "cell_type": "markdown",
   "metadata": {},
   "source": [
    "* excel和word需要人工操作，而且几十次操作后，无法回溯进行了哪些操作，对于新的数据也无法重复。Python编写为代码，执行起来自动处理。且可以根据需要不停修改代码，重复使用代码，而且支持更丰富的操作大规模数据，性能上也更优。\n",
    "* 不止数学、语文、而且计算机，这就是Python做的事。"
   ]
  }
 ],
 "metadata": {
  "kernelspec": {
   "display_name": "Python 3",
   "language": "python",
   "name": "python3"
  },
  "language_info": {
   "codemirror_mode": {
    "name": "ipython",
    "version": 3
   },
   "file_extension": ".py",
   "mimetype": "text/x-python",
   "name": "python",
   "nbconvert_exporter": "python",
   "pygments_lexer": "ipython3",
   "version": "3.7.3"
  }
 },
 "nbformat": 4,
 "nbformat_minor": 2
}
