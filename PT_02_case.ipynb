{
 "cells": [
  {
   "cell_type": "markdown",
   "metadata": {},
   "source": [
    "# <center>Python基础案例</center>"
   ]
  },
  {
   "cell_type": "markdown",
   "metadata": {},
   "source": [
    "### 从一个案例说起"
   ]
  },
  {
   "cell_type": "markdown",
   "metadata": {},
   "source": [
    "#### 餐馆销售情况分析，每天的销售情况分布是怎么样的？哪些菜最受欢迎？如何使用python编写程序来实现。\n",
    "* 收集数据、读取数据\n",
    "* 编写程序进行数据的统计分析\n",
    "* 输出结果"
   ]
  },
  {
   "cell_type": "code",
   "execution_count": null,
   "metadata": {},
   "outputs": [],
   "source": [
    " # 打开文件，读文件内容\n",
    "with open('data\\catering_sale.csv', 'r',encoding='UTF-8') as fp:\n",
    "    content = fp.readlines()\n",
    "    print(content)"
   ]
  },
  {
   "cell_type": "markdown",
   "metadata": {},
   "source": [
    "#### 求一下总销量、平均销量"
   ]
  },
  {
   "cell_type": "code",
   "execution_count": 3,
   "metadata": {},
   "outputs": [
    {
     "name": "stdout",
     "output_type": "stream",
     "text": [
      "sum: 550991.9399999997\n",
      "count: 199\n",
      "avg: 2768.8037185929634\n"
     ]
    }
   ],
   "source": [
    "# list里都是 字符串类型， 把销量转换为 数字类型 ，float,然后求一下总销量、平均销量\n",
    "sales_sum=0\n",
    "sales_count=0\n",
    "content.pop(0) #删除第一个表头\n",
    "for item in content:\n",
    "    str1=item[0:-1].split(',') #字符串拆分\n",
    "    #print(str1)\n",
    "    if(str1[1]==''): #空值\n",
    "        continue\n",
    "    sales_count+=1\n",
    "    sales_sum=sales_sum+float(str1[1])\n",
    "print(\"sum:\",sales_sum)\n",
    "print(\"count:\",sales_count)\n",
    "print('avg:',sales_sum/sales_count)"
   ]
  },
  {
   "cell_type": "markdown",
   "metadata": {},
   "source": [
    "#### 判断异常值"
   ]
  },
  {
   "cell_type": "code",
   "execution_count": 5,
   "metadata": {},
   "outputs": [
    {
     "data": {
      "text/plain": [
       "['2015/2/28', 2618.2]"
      ]
     },
     "execution_count": 5,
     "metadata": {},
     "output_type": "execute_result"
    }
   ],
   "source": [
    "# 将原始数据中表头、和空值去掉，先构造一个新的list\n",
    "newlist=[]\n",
    "for item in content:\n",
    "    str1=item[0:-1].split(',') #字符串拆分\n",
    "    itemlist=[]\n",
    "    if(str1[1]!=''): #空值\n",
    "        itemlist.append(str1[0])\n",
    "        itemlist.append(float(str1[1]))\n",
    "        newlist.append(itemlist)\n",
    "newlist[0]"
   ]
  },
  {
   "cell_type": "code",
   "execution_count": 6,
   "metadata": {},
   "outputs": [
    {
     "name": "stdout",
     "output_type": "stream",
     "text": [
      "[2618.2, 2608.4, 2651.9, 3442.1, 3393.1, 3136.6, 3744.1, 6607.4, 4060.3, 3614.7, 3295.5, 2332.1, 2699.3, 3036.8, 865.0, 3014.3, 2742.8, 2173.5, 3161.8, 3023.8, 2998.1, 2805.9, 2383.4, 2620.2, 2600.0, 2358.6, 2682.2, 2766.8, 2618.8, 2714.3, 2280.8, 2414.0, 3130.6, 2716.9, 2930.8, 2504.9, 2559.5, 2168.6, 2436.4, 3234.3, 3061.0, 2900.1, 2646.8, 2615.2, 2124.4, 1958.0, 2259.1, 2419.8, 2775.0, 2594.9, 2468.3, 3004.3, 3313.3, 3613.6, 2655.9, 2644.3, 2565.3, 2525.9, 2778.0, 2542.1, 2473.3, 2240.1, 2575.0, 3802.8, 2274.7, 2687.2, 2577.8, 2583.0, 3282.6, 3113.7, 2661.4, 2553.2, 2511.3, 2710.3, 2468.1, 3041.5, 3178.9, 2594.4, 2381.1, 2415.0, 2236.4, 3207.2, 3059.5, 3039.1, 2817.5, 2891.8, 2470.1, 3556.6, 3397.7, 2761.6, 2618.2, 2758.3, 2614.3, 3437.1, 3250.0, 3063.7, 2839.2, 2360.9, 2158.5, 2005.5, 3236.4, 22.0, 2452.6, 2265.0, 2566.1, 2527.2, 2326.5, 2941.9, 60.0, 2520.9, 2446.2, 2549.4, 2449.3, 2162.5, 2781.3, 3060.6, 2064.0, 2439.7, 2476.2, 2478.3, 2826.2, 2924.8, 2417.5, 2450.1, 2533.0, 2238.7, 2388.8, 3291.3, 2738.8, 2344.1, 2068.8, 3185.3, 2778.6, 2921.1, 2524.3, 3057.1, 3039.6, 3193.4, 3075.4, 2847.6, 2311.4, 2327.3, 9106.44, 2616.6, 2620.2, 2616.4, 2655.8, 2310.7, 2935.8, 3017.9, 2625.5, 2752.7, 2181.5, 2440.5, 2422.8, 2583.6, 2728.9, 2525.3, 2531.7, 2300.5, 2097.5, 4065.2, 3555.2, 3462.5, 3033.1, 2926.1, 2431.4, 2706.0, 3049.9, 3494.7, 3691.9, 2929.5, 2760.6, 2593.7, 2884.4, 2591.3, 3022.6, 3052.1, 2789.2, 2909.8, 2326.8, 2453.1, 2351.2, 3279.1, 3381.9, 2988.1, 2577.7, 2332.3, 2518.6, 2697.5, 3244.7, 3346.7, 2900.6, 2759.1, 2915.8, 2618.1, 2993.0, 3436.4, 2261.7]\n"
     ]
    }
   ],
   "source": [
    "sales = [] #构造一个空的list 对象,存储销量\n",
    "for row in newlist:\n",
    "    sales.append(row[1]) # 要先进行数值转换 然后放到list中\n",
    "print(sales)"
   ]
  },
  {
   "cell_type": "code",
   "execution_count": 8,
   "metadata": {
    "scrolled": true
   },
   "outputs": [
    {
     "name": "stdout",
     "output_type": "stream",
     "text": [
      "序号：142 最大值：9106.44\n",
      "序号：101 最小值：22.0\n"
     ]
    }
   ],
   "source": [
    "# 求最大值、最小值\n",
    "max_value = max(sales)\n",
    "print(\"序号：%s 最大值：%s\" % (sales.index(max_value), max_value))\n",
    "min_value = min(sales)\n",
    "print(\"序号：%s 最小值：%s\" % (sales.index(min_value), min_value))"
   ]
  },
  {
   "cell_type": "code",
   "execution_count": 9,
   "metadata": {},
   "outputs": [
    {
     "name": "stdout",
     "output_type": "stream",
     "text": [
      "平均值：2768.803719\n"
     ]
    }
   ],
   "source": [
    "# 计算平均值\n",
    "avg_value = sum(sales) / len(sales) # list的函数，我们不需要自己实现\n",
    "print('平均值：%f' % avg_value)"
   ]
  },
  {
   "cell_type": "code",
   "execution_count": 10,
   "metadata": {},
   "outputs": [
    {
     "name": "stdout",
     "output_type": "stream",
     "text": [
      "标准差：726.0257798101842\n"
     ]
    }
   ],
   "source": [
    "# 计算标准差\n",
    "import math\n",
    "bias_pow = []\n",
    "for row in sales:\n",
    "    bias_pow.append(pow(abs(row - avg_value),2))\n",
    "avg_range = math.sqrt(sum(bias_pow)/len(bias_pow))\n",
    "print('标准差：%s' % avg_range) # 标准差的意思是标准偏差，就是说这样的一个“偏差”，可以作为一个“标准”。"
   ]
  },
  {
   "cell_type": "code",
   "execution_count": 11,
   "metadata": {
    "scrolled": true
   },
   "outputs": [
    {
     "name": "stdout",
     "output_type": "stream",
     "text": [
      "序号：7 偏差值：3838.5962814070363\n",
      "序号：101 偏差值：2746.8037185929634\n",
      "序号：108 偏差值：2708.8037185929634\n",
      "序号：142 偏差值：6337.636281407037\n"
     ]
    }
   ],
   "source": [
    "# 计算与平均值的偏差\n",
    "bias_index = []\n",
    "for i in range(len(sales)):\n",
    "    bias_value = abs(sales[i]-avg_value)\n",
    "    if bias_value > (avg_range *3) :\n",
    "        bias_index.append(i)\n",
    "        print(\"序号：%s 偏差值：%s\" % (i, bias_value))"
   ]
  },
  {
   "cell_type": "code",
   "execution_count": 12,
   "metadata": {
    "scrolled": true
   },
   "outputs": [
    {
     "name": "stdout",
     "output_type": "stream",
     "text": [
      "199\n",
      "195\n"
     ]
    }
   ],
   "source": [
    "# 删除异常值\n",
    "print(len(newlist))\n",
    "# 复制一份数据\n",
    "data1 = newlist[:]\n",
    "bias_index.reverse() #从后往前删除\n",
    "for i in bias_index:\n",
    "    data1.pop(i)\n",
    "print(len(data1))"
   ]
  },
  {
   "cell_type": "code",
   "execution_count": 13,
   "metadata": {},
   "outputs": [],
   "source": [
    "#保存起来\n",
    "with open('sales.csv','a') as fp: # 打开文件 写文件 w表示已经存在的文件清空 再写，不存在的文件创建\n",
    "    fp.write('date'+','+'sales'+'\\n')\n",
    "    for row in data1:\n",
    "        aline = str(row[0])+','+ str(row[1])+'\\n'\n",
    "        fp.write(aline)"
   ]
  },
  {
   "cell_type": "code",
   "execution_count": 14,
   "metadata": {
    "scrolled": true
   },
   "outputs": [
    {
     "name": "stdout",
     "output_type": "stream",
     "text": [
      "序号：157 最大值：4065.2\n",
      "序号：13 最小值：865.0\n"
     ]
    }
   ],
   "source": [
    "# 数组分布分析\n",
    "# 取出销量列\n",
    "sales = []\n",
    "for row in data1:\n",
    "    sales.append(float(row[1])) # 要进行数值转换\n",
    "# 求最大值、最小值\n",
    "max_value = max(sales)\n",
    "print(\"序号：%s 最大值：%s\" % (sales.index(max(sales)), max_value))\n",
    "min_value = min(sales)\n",
    "print(\"序号：%s 最小值：%s\" % (sales.index(min(sales)), min_value))"
   ]
  },
  {
   "cell_type": "code",
   "execution_count": 15,
   "metadata": {
    "scrolled": true
   },
   "outputs": [
    {
     "name": "stdout",
     "output_type": "stream",
     "text": [
      "{'[, 400)': 1, '[400, 800)': 0, '[800, 1200)': 3, '[1200, 1600)': 45, '[1600, 2000)': 77, '[2000, 2400)': 46, '[2400, 2800)': 0, '[2800, )': 23}\n"
     ]
    }
   ],
   "source": [
    "# 分8组，间隔400\n",
    "# [, 400)\n",
    "# [400, 800)\n",
    "# [800, 1200)\n",
    "# [1200, 1600)\n",
    "# [1600, 2000)\n",
    "# [2000, 2400)\n",
    "# [2400, 2800)\n",
    "# [2800, )\n",
    "sale_dict = {'[, 400)': 0, '[400, 800)': 0, '[800, 1200)': 0, '[1200, 1600)': 0, '[1600, 2000)': 0,\n",
    " '[2000, 2400)': 0, '[2400, 2800)': 0, '[2800, )': 0}\n",
    "for val in sales:\n",
    "    interval = val-min_value\n",
    "    if interval < 400:\n",
    "        sale_dict['[, 400)'] += 1\n",
    "    elif 400 <= interval < 800:\n",
    "        sale_dict['[400, 800)'] += 1\n",
    "    elif 800 <= interval < 1200:\n",
    "        sale_dict['[800, 1200)'] += 1\n",
    "    elif 1200 <= interval < 1600:\n",
    "        sale_dict['[1200, 1600)'] += 1\n",
    "    elif 1600 <= interval < 2000:\n",
    "        sale_dict['[1600, 2000)'] += 1\n",
    "    elif 2000 <= interval < 2400:\n",
    "        sale_dict['[2000, 2400)'] += 1\n",
    "    else:\n",
    "        sale_dict['[2800, )'] += 1\n",
    "print(sale_dict)\n"
   ]
  },
  {
   "cell_type": "code",
   "execution_count": 16,
   "metadata": {},
   "outputs": [
    {
     "name": "stdout",
     "output_type": "stream",
     "text": [
      "[, 400)区间: 0.51%\n",
      "[400, 800)区间: 0.00%\n",
      "[800, 1200)区间: 1.54%\n",
      "[1200, 1600)区间: 23.08%\n",
      "[1600, 2000)区间: 39.49%\n",
      "[2000, 2400)区间: 23.59%\n",
      "[2400, 2800)区间: 0.00%\n",
      "[2800, )区间: 11.79%\n"
     ]
    }
   ],
   "source": [
    "# 输出百分比\n",
    "for key, value in sale_dict.items():\n",
    "    print('{}区间: {:.2%}'.format(key, value / len(sales)))"
   ]
  }
 ],
 "metadata": {
  "kernelspec": {
   "display_name": "Python 3",
   "language": "python",
   "name": "python3"
  },
  "language_info": {
   "codemirror_mode": {
    "name": "ipython",
    "version": 3
   },
   "file_extension": ".py",
   "mimetype": "text/x-python",
   "name": "python",
   "nbconvert_exporter": "python",
   "pygments_lexer": "ipython3",
   "version": "3.7.3"
  }
 },
 "nbformat": 4,
 "nbformat_minor": 2
}
