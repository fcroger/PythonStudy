{
 "cells": [
  {
   "cell_type": "markdown",
   "metadata": {},
   "source": [
    "### 导入"
   ]
  },
  {
   "cell_type": "code",
   "execution_count": 1,
   "metadata": {},
   "outputs": [],
   "source": [
    "import numpy as np"
   ]
  },
  {
   "cell_type": "markdown",
   "metadata": {},
   "source": [
    "### 1.如何创建数组\n",
    "* ndarray: 多维数据结构，一种新的数据类型,nd表示n-dimention\n",
    "* ufunc: 配套的很多函数"
   ]
  },
  {
   "cell_type": "code",
   "execution_count": 5,
   "metadata": {
    "scrolled": true
   },
   "outputs": [
    {
     "name": "stdout",
     "output_type": "stream",
     "text": [
      "[1 2 3]\n",
      "[1.1 2.2 3.3]\n",
      "[[1 2 3]\n",
      " [4 5 6]]\n"
     ]
    }
   ],
   "source": [
    "# 实用list数据初始化一个ndarray\n",
    "a = np.array([1,2,3])\n",
    "print(a)\n",
    "b = np.array([1.1,2.2,3.3])\n",
    "print(b)\n",
    "c = np.array([[1,2,3],[4,5,6]])\n",
    "print(c)"
   ]
  },
  {
   "cell_type": "code",
   "execution_count": 6,
   "metadata": {},
   "outputs": [
    {
     "data": {
      "text/plain": [
       "array(['1', '2', '3'], dtype='<U11')"
      ]
     },
     "execution_count": 6,
     "metadata": {},
     "output_type": "execute_result"
    }
   ],
   "source": [
    "a = np.array([1,2,'3']) # ndarray里数据需要为统一类型，为自动转换；list不要求\n",
    "a"
   ]
  },
  {
   "cell_type": "code",
   "execution_count": 7,
   "metadata": {},
   "outputs": [
    {
     "data": {
      "text/plain": [
       "array([1. , 2. , 3.3])"
      ]
     },
     "execution_count": 7,
     "metadata": {},
     "output_type": "execute_result"
    }
   ],
   "source": [
    "a = np.array([1,2,3.3])\n",
    "a"
   ]
  },
  {
   "cell_type": "markdown",
   "metadata": {},
   "source": [
    "### 使用arrange函数\n",
    "#### 为了创建列表，NumPy提供了和range类似的函数，通过指定开始值、终值和步长来创建一维数组，注意数组不包括终值。"
   ]
  },
  {
   "cell_type": "code",
   "execution_count": 22,
   "metadata": {
    "scrolled": true
   },
   "outputs": [
    {
     "name": "stdout",
     "output_type": "stream",
     "text": [
      "[ 1  3  5  7  9 11 13 15 17 19 21 23 25 27 29 31 33 35 37 39 41 43 45 47\n",
      " 49 51 53 55 57 59 61 63 65 67 69 71 73 75 77 79 81 83 85 87 89 91 93 95\n",
      " 97 99]\n",
      "[0.  0.3 0.6 0.9 1.2 1.5 1.8 2.1 2.4 2.7]\n",
      "[[ 1  3  5  7  9 11 13 15 17 19]\n",
      " [21 23 25 27 29 31 33 35 37 39]\n",
      " [41 43 45 47 49 51 53 55 57 59]\n",
      " [61 63 65 67 69 71 73 75 77 79]\n",
      " [81 83 85 87 89 91 93 95 97 99]]\n"
     ]
    }
   ],
   "source": [
    "a = np.arange(1,100,2) #步长为2\n",
    "print(a)\n",
    "b = np.arange(0,3,0.3) #步长可以接收浮点数\n",
    "print(b)\n",
    "\n",
    "##arange函数可以看做是range函数的数组版，能生成一个一维数组，然后可以用reshape函数将一维数组改变成想要的形状，原数组的shape保持不变。\n",
    "b = a.reshape(5,-1) # -1表示自动计算,即50/5=10\n",
    "print(b)"
   ]
  },
  {
   "cell_type": "markdown",
   "metadata": {},
   "source": [
    "### 2.如何访问数组里数据？\n",
    "#### 数组元素的存取方法和Python中list的标准方法相同"
   ]
  },
  {
   "cell_type": "code",
   "execution_count": 34,
   "metadata": {
    "scrolled": true
   },
   "outputs": [
    {
     "name": "stdout",
     "output_type": "stream",
     "text": [
      "[0 1 2 3 4 5 6 7 8 9]\n",
      "[  0   1 100 101   4   5   6   7   8   9]\n"
     ]
    },
    {
     "data": {
      "text/plain": [
       "array([  5, 101])"
      ]
     },
     "execution_count": 34,
     "metadata": {},
     "output_type": "execute_result"
    }
   ],
   "source": [
    "a = np.arange(10)\n",
    "print(a)\n",
    "a[5] #访问某一个，用整数作为下标可以获取数组中的某个元素\n",
    "a[3:5] #片段，用范围作为下标获取数组的一个切片，包括a[3]不包括a[5]\n",
    "a[:5] #省略开始下标，表示从a[0]开始\n",
    "a[:-1] ## 下标可以使用负数，表示从数组后往前数\n",
    "a[2:4] = 100,101 #下标还可以用来修改元素的值\n",
    "print(a)\n",
    "a[1:-1:2] #范围中的第三个参数表示步长，2表示隔一个元素取一个元素\n",
    "a[::-1] #省略范围的开始下标和结束下标，步长为-1，整个数组头尾颠倒\n",
    "a[5:1:-2] #步长为负数时，开始下标必须大于结束下标"
   ]
  },
  {
   "cell_type": "markdown",
   "metadata": {},
   "source": [
    "### 3.数组的共享数据空间问题\n",
    "#### 和Python的列表序列不同，通过下标范围获取的新的数组是原始数组的一个视图。它与原始数组共享同一块数据空间"
   ]
  },
  {
   "cell_type": "code",
   "execution_count": 36,
   "metadata": {
    "scrolled": true
   },
   "outputs": [
    {
     "data": {
      "text/plain": [
       "array([3, 4, 5, 6])"
      ]
     },
     "execution_count": 36,
     "metadata": {},
     "output_type": "execute_result"
    }
   ],
   "source": [
    "a = np.arange(10)\n",
    "b = a[3:7] # 通过下标范围产生一个新的数组b，b和a共享同一块数据空间\n",
    "b"
   ]
  },
  {
   "cell_type": "code",
   "execution_count": 37,
   "metadata": {},
   "outputs": [],
   "source": [
    "b[2] = -1 # 将b的第2个元素"
   ]
  },
  {
   "cell_type": "code",
   "execution_count": 39,
   "metadata": {
    "scrolled": true
   },
   "outputs": [
    {
     "data": {
      "text/plain": [
       "array([ 0,  1,  2,  3,  4, -1,  6,  7,  8,  9])"
      ]
     },
     "execution_count": 39,
     "metadata": {},
     "output_type": "execute_result"
    }
   ],
   "source": [
    "a # a对应位置元素也修改了"
   ]
  },
  {
   "cell_type": "markdown",
   "metadata": {},
   "source": [
    "### 如何避免\n",
    "#### 使用整数序列（列表或者数组）作为下标获得的数组不和原始数组共享数据空间。"
   ]
  },
  {
   "cell_type": "code",
   "execution_count": 45,
   "metadata": {},
   "outputs": [
    {
     "name": "stdout",
     "output_type": "stream",
     "text": [
      "[10  9  8  7  6  5  4  3  2]\n",
      "[7 7 4 2]\n"
     ]
    }
   ],
   "source": [
    "x = np.arange(10,1,-1)\n",
    "print(x)\n",
    "x[[3,3,1,8]] #使用列表 获取x中的下标为3, 3, 1, 8的4个元素，组成一个新的数组\n",
    "b =  x[np.array([3,3,-3,8])] #使用数组下标可以是负数\n",
    "print(b)\n",
    "b[2] = 100\n",
    "x # 由于b和x不共享数据空间，因此x中的值并没有改变\n",
    "x[[3,5,1]] = -1, -2, -3 # 整数序列下标也可以用来修改元素的值"
   ]
  },
  {
   "cell_type": "markdown",
   "metadata": {},
   "source": [
    "### 深度复制"
   ]
  },
  {
   "cell_type": "code",
   "execution_count": 49,
   "metadata": {
    "scrolled": true
   },
   "outputs": [
    {
     "name": "stdout",
     "output_type": "stream",
     "text": [
      "[ 3  4 -1  6]\n",
      "[3 4 5 6]\n",
      "[0 1 2 3 4 5 6 7 8 9]\n"
     ]
    }
   ],
   "source": [
    "#数组深度复制\n",
    "a = np.arange(10)\n",
    "b = a[3:7] # 通过下标范围产生一个新的数组b，b和a共享同一块数据空间\n",
    "d = b.copy()\n",
    "d[2]=-1 # 将b的第2个元素修改\n",
    "print(d)\n",
    "print(b) #未变\n",
    "print(a) #未变"
   ]
  },
  {
   "cell_type": "markdown",
   "metadata": {},
   "source": [
    "### 4.多维数组\n",
    "#### 多维数组的存取和一维数组类似，因为多维数组有多个轴，因此它的下标需要用多个值来表示"
   ]
  },
  {
   "cell_type": "code",
   "execution_count": 51,
   "metadata": {
    "scrolled": true
   },
   "outputs": [
    {
     "data": {
      "text/plain": [
       "array([[ 0,  1,  2,  3,  4,  5,  6,  7,  8,  9],\n",
       "       [10, 11, 12, 13, 14, 15, 16, 17, 18, 19],\n",
       "       [20, 21, 22, 23, 24, 25, 26, 27, 28, 29],\n",
       "       [30, 31, 32, 33, 34, 35, 36, 37, 38, 39],\n",
       "       [40, 41, 42, 43, 44, 45, 46, 47, 48, 49],\n",
       "       [50, 51, 52, 53, 54, 55, 56, 57, 58, 59]])"
      ]
     },
     "execution_count": 51,
     "metadata": {},
     "output_type": "execute_result"
    }
   ],
   "source": [
    "nd = np.arange(0,60).reshape(6,10)\n",
    "nd"
   ]
  },
  {
   "cell_type": "code",
   "execution_count": 53,
   "metadata": {
    "scrolled": true
   },
   "outputs": [
    {
     "data": {
      "text/plain": [
       "array([[13, 14],\n",
       "       [23, 24]])"
      ]
     },
     "execution_count": 53,
     "metadata": {},
     "output_type": "execute_result"
    }
   ],
   "source": [
    "nd[1:3,3:5]"
   ]
  },
  {
   "cell_type": "markdown",
   "metadata": {},
   "source": [
    "### 5.数组的切分与拼接"
   ]
  },
  {
   "cell_type": "markdown",
   "metadata": {},
   "source": [
    "#### 5.1切分"
   ]
  },
  {
   "cell_type": "code",
   "execution_count": 56,
   "metadata": {
    "scrolled": true
   },
   "outputs": [
    {
     "name": "stdout",
     "output_type": "stream",
     "text": [
      "[array([0, 1, 2]), array([3, 4, 5]), array([6, 7, 8])]\n",
      "[array([0, 1, 2, 3]), array([4, 5, 6]), array([7, 8])]\n"
     ]
    }
   ],
   "source": [
    "a = np.arange(9)\n",
    "b = np.split(a,3) #将数组分为三个大小相等的子数组\n",
    "print(b)\n",
    "b = np.split(a,[4,7]) # 4的位置切一刀，7的位置切一刀\n",
    "print(b)"
   ]
  },
  {
   "cell_type": "code",
   "execution_count": 74,
   "metadata": {
    "scrolled": true
   },
   "outputs": [
    {
     "name": "stdout",
     "output_type": "stream",
     "text": [
      "[[1. 8. 9. 8. 8. 2.]\n",
      " [7. 8. 7. 9. 7. 6.]]\n"
     ]
    },
    {
     "data": {
      "text/plain": [
       "[array([[1., 8.],\n",
       "        [7., 8.]]), array([[9., 8.],\n",
       "        [7., 9.]]), array([[8., 2.],\n",
       "        [7., 6.]])]"
      ]
     },
     "execution_count": 74,
     "metadata": {},
     "output_type": "execute_result"
    }
   ],
   "source": [
    "harr = np.floor(10*np.random.random((2,6))) #0~1之间的随机数，行2个,列6个; 对每一个取“地板”值\n",
    "print(harr)\n",
    "np.hsplit(harr,3) # 地平线，把它分三段"
   ]
  },
  {
   "cell_type": "code",
   "execution_count": 76,
   "metadata": {},
   "outputs": [
    {
     "data": {
      "text/plain": [
       "[array([[0, 1, 2, 3],\n",
       "        [4, 5, 6, 7]]), array([[ 8,  9, 10, 11],\n",
       "        [12, 13, 14, 15]])]"
      ]
     },
     "execution_count": 76,
     "metadata": {},
     "output_type": "execute_result"
    }
   ],
   "source": [
    "a = np.arange(16).reshape(4,4)\n",
    "b = np.vsplit(a,2) #垂线，把它分两段\n",
    "b"
   ]
  },
  {
   "cell_type": "markdown",
   "metadata": {},
   "source": [
    "#### 5.2拼接数组\n",
    "#### 建构不同的数组，多个数组可以按照不同的轴合在一起"
   ]
  },
  {
   "cell_type": "code",
   "execution_count": 80,
   "metadata": {
    "scrolled": true
   },
   "outputs": [
    {
     "data": {
      "text/plain": [
       "array([[1, 2, 5, 6],\n",
       "       [3, 4, 7, 8]])"
      ]
     },
     "execution_count": 80,
     "metadata": {},
     "output_type": "execute_result"
    }
   ],
   "source": [
    "a = np.array([[1,2],[3,4]])\n",
    "b = np.array([[5,6],[7,8]])\n",
    "np.concatenate((a,b)) #沿轴 0 连接两个数组\n",
    "np.concatenate((a,b), axis = 1) #沿轴 1 连接两个数组"
   ]
  },
  {
   "cell_type": "markdown",
   "metadata": {},
   "source": [
    "### 6.NumPy提供的数组的函数ufunc\n",
    "#### ufunc是universal function的缩写，它是一种能对数组的每个元素进行操作的函数。许多ufunc函数都是在C语言级别实现的，因此它们的计算速度非常快。"
   ]
  },
  {
   "cell_type": "markdown",
   "metadata": {},
   "source": [
    "#### 6.1数组之间的四则运算"
   ]
  },
  {
   "cell_type": "code",
   "execution_count": 82,
   "metadata": {
    "scrolled": true
   },
   "outputs": [
    {
     "name": "stdout",
     "output_type": "stream",
     "text": [
      "[ 6  8 10]\n",
      "[-4 -4 -4]\n",
      "[ 5 12 21]\n",
      "[0.2        0.33333333 0.42857143]\n"
     ]
    }
   ],
   "source": [
    "#数组间运算，是每个位置的元素对应分别计算,形状需要一样\n",
    "x=np.array([1,2,3])\n",
    "y=np.array([5,6,7])\n",
    "print(x+y)\n",
    "print(x-y)\n",
    "print(x*y)\n",
    "print(x/y)"
   ]
  },
  {
   "cell_type": "markdown",
   "metadata": {},
   "source": [
    "#### 6.2 ufunc常用函数\n",
    "**一元ufunc**\n",
    "* ceil(x): 向上最接近的整数，参数是 number 或 array\n",
    "* floor(x): 向下最接近的整数，参数是 number 或 array\n",
    "* rint(x): 四舍五入，参数是 number 或 array\n",
    "* negative(x): 元素取反，参数是 number 或 array\n",
    "* abs(x)：元素的绝对值，参数是 number 或 array\n",
    "* square(x)：元素的平方，参数是 number 或 array\n",
    "* aqrt(x)：元素的平方根，参数是 number 或 array\n",
    "* sign(x)：计算各元素的正负号, 1(正数)、0（零）、-1(负数)，参数是 number 或 array\n",
    "* modf(x)：将数组的小数和整数部分以两个独立数组的形式返回，参数是 number 或 array\n",
    "* isnan(x): 判断元素是否为 NaN(Not a Number)，返回bool，参数是 number 或 array\n",
    "**二元ufunc**\n",
    "* add(x, y): 元素相加，x + y，参数是 number 或 array\n",
    "* subtract(x, y): 元素相减，x – y，参数是 number 或 array\n",
    "* multiply(x, y): 元素相乘，x * y，参数是 number 或 array\n",
    "* divide(x, y): 元素相除，x / y，参数是 number 或 array\n",
    "* floor_divide(x, y): 元素相除取整数商(丢弃余数)，x // y，参数是 number 或 array\n",
    "* mod(x, y): 元素求余数，x % y，参数是 number 或 array\n",
    "* power(x, y): 元素求次方，x ** y，参数是 number 或 array\n",
    "* equal(x1, x2 [, y]) : y = x1 == x2\n",
    "* not_equal(x1, x2 [, y]) : y = x1 != x2\n",
    "* less(x1, x2, [, y]) : y = x1 < x2\n",
    "* less_equal(x1, x2, [, y]) : y = x1 <= x2\n",
    "* greater(x1, x2, [, y]) : y = x1 > x2\n",
    "* greater_equal(x1, x2, [, y]) : y = x1 >= x2"
   ]
  },
  {
   "cell_type": "markdown",
   "metadata": {},
   "source": [
    "### 7.NumPy提供了其他的函数库\n",
    "**比较运算**\n",
    "* allclose(a, b[, rtol, atol, equal_nan]) 如果两个数组在容差范围内在元素方面相等，则返回True。\n",
    "* isclose(a, b[, rtol, atol, equal_nan]) 返回一个布尔数组，其中两个数组在容差范围内是元素相等的。\n",
    "* array_equal(a1, a2) 如果两个数组具有相同的形状和元素，则为真，否则为False。\n",
    "* array_equiv(a1, a2) 如果输入数组的形状一致且所有元素相等，则返回True。\n",
    "* greater(x1, x2, /[, out, where, casting, …]) 逐个元素方式返回（x1> x2）的真值。\n",
    "* greater_equal(x1, x2, /[, out, where, …]) 逐个元素方式返回（x1> = x2）的真值。\n",
    "* less(x1, x2, /[, out, where, casting, …]) 逐个元素方式返回\n",
    "* less_equal(x1, x2, /[, out, where, casting, …]) 逐个元素方式返回\n",
    "* equal(x1, x2, /[, out, where, casting, …]) 逐个元素返回（x1 == x2）。\n",
    "* not_equal(x1, x2, /[, out, where, casting, …]) 逐个元素返回 Return (x1 != x2)。\n",
    "\n",
    "**三角函数**\n",
    "* sin(x, /[, out, where, casting, order, …]) 逐个元素运算三角正弦函数。\n",
    "* cos(x, /[, out, where, casting, order, …]) 逐个元素运算三角余弦函数。\n",
    "* tan(x, /[, out, where, casting, order, …]) 逐个元素运算三角正切函数。\n",
    "* arcsin(x, /[, out, where, casting, order, …]) 逐个元素运算三角反正弦函数。\n",
    "* arccos(x, /[, out, where, casting, order, …]) 逐个元素运算三角反余弦函数。\n",
    "* arctan(x, /[, out, where, casting, order, …]) 逐个元素运算三角反正切函数。\n",
    "* hypot(x1, x2, /[, out, where, casting, …]) 给定直角三角形的“腿”，返回它的斜边。\n",
    "* arctan2(x1, x2, /[, out, where, casting, …]) 元素弧切线x1/x2正确选择象限。\n",
    "* degrees(x, /[, out, where, casting, order, …]) 将角度从弧度转换为度数。\n",
    "* radians(x, /[, out, where, casting, order, …]) 将角度从度数转换为弧度。\n",
    "* unwrap(p[, discont, axis]) 通过将值之间的差值更改为2*pi补码来展开。\n",
    "* deg2rad(x, /[, out, where, casting, order, …]) 将角度从度数转换为弧度。\n",
    "* rad2deg(x, /[, out, where, casting, order, …]) 将角度从弧度转换为度数。\n",
    "\n",
    "**求总和, 求乘积, 求差异**\n",
    "* prod(a[, axis, dtype, out, keepdims]) 返回给定轴上的数组元素的乘积。\n",
    "* sum(a[, axis, dtype, out, keepdims]) 给定轴上的数组元素的总和。\n",
    "* nanprod(a[, axis, dtype, out, keepdims]) 返回给定轴上的数组元素的乘积。\n",
    "* nansum(a[, axis, dtype, out, keepdims]) 返回给定轴上的数组元素的总和。\n",
    "* cumprod(a[, axis, dtype, out]) 返回给定轴上元素的累积乘积。\n",
    "* cumsum(a[, axis, dtype, out]) 返回给定轴上元素的累积和。\n",
    "* nancumprod(a[, axis, dtype, out]) 返回给定轴上的数组元素的累积乘积\n",
    "* nancumsum(a[, axis, dtype, out]) 返回给定轴上的数组元素的累积和。\n",
    "* diff(a[, n, axis]) 计算沿给定轴的第n个离散差。\n",
    "* ediff1d(ary[, to_end, to_begin]) 数组的连续元素之间的差异。\n",
    "* gradient(f, varargs, *kwargs) 返回N维数组的渐变。\n",
    "* cross(a, b[, axisa, axisb, axisc, axis]) 返回两个（数组）向量的叉积。\n",
    "* trapz(y[, x, dx, axis]) 沿给定的轴积分使用复合梯形规则运算。\n",
    "\n",
    "**平均数和差异**\n",
    "* median(a[, axis, out, overwrite_input, keepdims]) 沿指定轴计算中值。\n",
    "* average(a[, axis, weights, returned]) 计算沿指定轴的加权平均。\n",
    "* mean(a[, axis, dtype, out, keepdims]) 沿指定的轴计算算术平均值。\n",
    "* std(a[, axis, dtype, out, ddof, keepdims]) 计算沿指定轴的标准偏差。\n",
    "* var(a[, axis, dtype, out, ddof, keepdims]) 计算沿指定轴的方差。\n",
    "* nanmedian(a[, axis, out, overwrite_input, …]) 在忽略NAS的情况下，沿指定的轴计算中值。\n",
    "* nanmean(a[, axis, dtype, out, keepdims]) 计算沿指定轴的算术平均值，忽略NAS。\n",
    "* nanstd(a[, axis, dtype, out, ddof, keepdims]) 计算指定轴上的标准偏差，而忽略NAS。\n",
    "* nanvar(a[, axis, dtype, out, ddof, keepdims]) 计算指定轴上的方差，同时忽略NAS。"
   ]
  },
  {
   "cell_type": "markdown",
   "metadata": {},
   "source": [
    "### NumPy函数比普通函数的优势"
   ]
  },
  {
   "cell_type": "code",
   "execution_count": 89,
   "metadata": {},
   "outputs": [
    {
     "name": "stdout",
     "output_type": "stream",
     "text": [
      "math.sin: 0.328125\n"
     ]
    }
   ],
   "source": [
    "import time\n",
    "import math\n",
    "x = [i * 0.001 for i in range(1000000)] #百度python数组创建语法[for in range]\n",
    "start = time.process_time()\n",
    "for i,t in enumerate(x):\n",
    "    x[i] = math.sin(t) #python自带的函数\n",
    "print(\"math.sin:\", time.process_time()-start)"
   ]
  },
  {
   "cell_type": "code",
   "execution_count": 92,
   "metadata": {
    "scrolled": true
   },
   "outputs": [
    {
     "name": "stdout",
     "output_type": "stream",
     "text": [
      "numpy.sin: 0.03125\n"
     ]
    }
   ],
   "source": [
    "x = [i * 0.001 for i in range(1000000)]\n",
    "x = np.array(x) # x已经转变为 ndarray对象\n",
    "start = time.process_time()\n",
    "np.sin(x) #numpy的函数\n",
    "print (\"numpy.sin:\", time.process_time() - start)"
   ]
  },
  {
   "cell_type": "markdown",
   "metadata": {},
   "source": [
    "### 8.NumPy的文件读取函数\n",
    "从文件里读取数据直接构建ndarray，或者把结果保存\n",
    "* np.loadtxt(FILENAME, dtype=int, delimiter=' ')\n",
    "* np.savetxt(FILENAME, a, fmt=\"%d\", delimiter=\",\")"
   ]
  },
  {
   "cell_type": "code",
   "execution_count": 109,
   "metadata": {},
   "outputs": [
    {
     "name": "stdout",
     "output_type": "stream",
     "text": [
      "[[ 0.   0.5  1.   1.5  2.   2.5]\n",
      " [ 3.   3.5  4.   4.5  5.   5.5]\n",
      " [ 6.   6.5  7.   7.5  8.   8.5]\n",
      " [ 9.   9.5 10.  10.5 11.  11.5]]\n"
     ]
    },
    {
     "data": {
      "text/plain": [
       "array([[ 0. ,  0.5,  1. ,  1.5,  2. ,  2.5],\n",
       "       [ 3. ,  3.5,  4. ,  4.5,  5. ,  5.5],\n",
       "       [ 6. ,  6.5,  7. ,  7.5,  8. ,  8.5],\n",
       "       [ 9. ,  9.5, 10. , 10.5, 11. , 11.5]])"
      ]
     },
     "execution_count": 109,
     "metadata": {},
     "output_type": "execute_result"
    }
   ],
   "source": [
    "a = np.arange(0,12,0.5).reshape(4,-1)\n",
    "print(a)\n",
    "np.savetxt(\"a.txt\", a) # 缺省按照'%.18e'格式保存数据，以空格分隔\n",
    "np.loadtxt(\"a.txt\")"
   ]
  },
  {
   "cell_type": "code",
   "execution_count": 111,
   "metadata": {
    "scrolled": true
   },
   "outputs": [
    {
     "data": {
      "text/plain": [
       "array([[ 0.,  0.,  1.,  1.,  2.,  2.],\n",
       "       [ 3.,  3.,  4.,  4.,  5.,  5.],\n",
       "       [ 6.,  6.,  7.,  7.,  8.,  8.],\n",
       "       [ 9.,  9., 10., 10., 11., 11.]])"
      ]
     },
     "execution_count": 111,
     "metadata": {},
     "output_type": "execute_result"
    }
   ],
   "source": [
    "np.savetxt(\"a.txt\", a, fmt=\"%d\", delimiter=\",\") #改为保存为整数，以逗号分隔\n",
    "np.loadtxt(\"a.txt\",delimiter=\",\") # 读入的时候也需要指定逗号分隔"
   ]
  },
  {
   "cell_type": "code",
   "execution_count": 113,
   "metadata": {},
   "outputs": [
    {
     "data": {
      "text/plain": [
       "array([[ 0.,  1.,  2.,  3.],\n",
       "       [ 4.,  5.,  6.,  7.],\n",
       "       [ 8.,  9., 10., 11.]])"
      ]
     },
     "execution_count": 113,
     "metadata": {},
     "output_type": "execute_result"
    }
   ],
   "source": [
    " a = np.arange(0,12).reshape(3,4)\n",
    "np.savetxt(\"a.txt\", a, fmt='%10.5f')\n",
    "b = np.loadtxt(\"a.txt\")\n",
    "b"
   ]
  }
 ],
 "metadata": {
  "kernelspec": {
   "display_name": "Python 3",
   "language": "python",
   "name": "python3"
  },
  "language_info": {
   "codemirror_mode": {
    "name": "ipython",
    "version": 3
   },
   "file_extension": ".py",
   "mimetype": "text/x-python",
   "name": "python",
   "nbconvert_exporter": "python",
   "pygments_lexer": "ipython3",
   "version": "3.7.3"
  }
 },
 "nbformat": 4,
 "nbformat_minor": 2
}
