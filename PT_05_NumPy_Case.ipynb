{
 "cells": [
  {
   "cell_type": "markdown",
   "metadata": {},
   "source": [
    "# <center>NumPy案例</center>"
   ]
  },
  {
   "cell_type": "markdown",
   "metadata": {},
   "source": [
    "### 实践题目\n",
    "#### 泰坦尼克乘客数据分析生还率\n",
    "* 著名的数据分析竞赛网站Kaggle上，举行了很多数据分析比赛，其中比较著名的就有 泰坦尼克号乘客生还预测 。\n",
    "* Kaggle提供的数据集中，共有1309名乘客数据，其中891是已知存活情况，剩下418则是需要进行分析预测的。\n",
    "\n",
    "#### 我们想知道\n",
    "1. 生还者总数\n",
    "2. 平均生还率\n",
    "\n",
    "#### 进一步\n",
    "3. 各等级船舱乘客数量\n",
    "4. 各等级船舱生还数量\n",
    "5. 不同舱位生还率\n",
    "\n",
    "#### 更进一步\n",
    "6. 不同性别平均生还率 ['Sex','Survived']\n",
    "\n",
    "### 数据文件\n",
    "* titanic-data.csv\n",
    "\n",
    "### 本节任务\n",
    "* 分析探索原始数据，查看数据空值等情况\n",
    "* 构建特征工程，统计特征分布与生还关系\n",
    "\n",
    "### 数据主要字段说明如下：\n",
    "* PassengerId: 乘客编号\n",
    "* Survived: Survived (1) or died (0)是否存活\n",
    "* Pclass: 船舱\n",
    "* Name: 姓名\n",
    "* Sex: 性别\n",
    "* Age: 年龄\n",
    "* SibSp: 兄弟/姐妹/配偶的数量\n",
    "* Parch: 父母/子女的数量\n",
    "* Ticket: 票号\n",
    "* Fare: 票价\n",
    "* Cabin: 座号\n",
    "* Embarked: 登船港口"
   ]
  },
  {
   "cell_type": "code",
   "execution_count": 59,
   "metadata": {},
   "outputs": [],
   "source": [
    "import os\n",
    "import numpy as np"
   ]
  },
  {
   "cell_type": "code",
   "execution_count": 60,
   "metadata": {},
   "outputs": [
    {
     "data": {
      "text/plain": [
       "'C:\\\\Users\\\\wzqcg\\\\PythonCode'"
      ]
     },
     "execution_count": 60,
     "metadata": {},
     "output_type": "execute_result"
    }
   ],
   "source": [
    "#获取文件的当前路径\n",
    "current_dir = os.path.dirname(os.path.realpath('__file__'))\n",
    "current_dir"
   ]
  },
  {
   "cell_type": "code",
   "execution_count": 61,
   "metadata": {},
   "outputs": [
    {
     "data": {
      "text/plain": [
       "'C:\\\\Users\\\\wzqcg\\\\PythonCode\\\\titanic-data.csv'"
      ]
     },
     "execution_count": 61,
     "metadata": {},
     "output_type": "execute_result"
    }
   ],
   "source": [
    "#设置读取文件的路径\n",
    "filename = os.path.join(current_dir, 'titanic-data.csv')\n",
    "filename"
   ]
  },
  {
   "cell_type": "code",
   "execution_count": 62,
   "metadata": {},
   "outputs": [
    {
     "data": {
      "text/plain": [
       "array(['PassengerId', 'Survived', 'Pclass', 'Name', 'Sex', 'Age', 'SibSp',\n",
       "       'Parch', 'Ticket', 'Fare', 'Cabin', 'Embarked'], dtype='<U11')"
      ]
     },
     "execution_count": 62,
     "metadata": {},
     "output_type": "execute_result"
    }
   ],
   "source": [
    "#在这里直接读取首行的时候会出现换行符 \\n 所以利用切边给它过滤掉，在通过字符串分割转换成列表\n",
    "with open(filename,encoding='utf-8') as f:\n",
    "    head_index=np.array(f.readline()[:-1].split(','))\n",
    "head_index"
   ]
  },
  {
   "cell_type": "code",
   "execution_count": 63,
   "metadata": {
    "scrolled": true
   },
   "outputs": [
    {
     "data": {
      "text/plain": [
       "array([['1', '0', '3', ..., '7.25', '', 'S'],\n",
       "       ['2', '1', '1', ..., '71.2833', 'C85', 'C'],\n",
       "       ['3', '1', '3', ..., '7.925', '', 'S'],\n",
       "       ...,\n",
       "       ['889', '0', '3', ..., '23.45', '', 'S'],\n",
       "       ['890', '1', '1', ..., '30', 'C148', 'C'],\n",
       "       ['891', '0', '3', ..., '7.75', '', 'Q']], dtype='<U83')"
      ]
     },
     "execution_count": 63,
     "metadata": {},
     "output_type": "execute_result"
    }
   ],
   "source": [
    "data = np.loadtxt('titanic-data.csv', delimiter=',',dtype=np.str, skiprows=1) #从文件中加载数据直接生成array，跳过第一行\n",
    "data"
   ]
  },
  {
   "cell_type": "code",
   "execution_count": 64,
   "metadata": {},
   "outputs": [
    {
     "data": {
      "text/plain": [
       "array(['1', '0', '3', '\"Braund Mr. Owen Harris\"', 'male', '22', '1', '0',\n",
       "       'A/5 21171', '7.25', '', 'S'], dtype='<U83')"
      ]
     },
     "execution_count": 64,
     "metadata": {},
     "output_type": "execute_result"
    }
   ],
   "source": [
    "# 查看首行数据\n",
    "first_line = data[0]\n",
    "first_line"
   ]
  },
  {
   "cell_type": "code",
   "execution_count": 65,
   "metadata": {},
   "outputs": [
    {
     "data": {
      "text/plain": [
       "array([ 0,  1,  2,  4,  5,  6,  7,  8,  9, 10, 11])"
      ]
     },
     "execution_count": 65,
     "metadata": {},
     "output_type": "execute_result"
    }
   ],
   "source": [
    " # 有效字段索引\n",
    "a = np.arange(12)\n",
    "data_index = np.delete(a, 3) # name字段的值对生还率预测没有意义，可以删除\n",
    "data_index\n"
   ]
  },
  {
   "cell_type": "code",
   "execution_count": 66,
   "metadata": {
    "scrolled": true
   },
   "outputs": [
    {
     "data": {
      "text/plain": [
       "array(['PassengerId', 'Survived', 'Pclass', 'Sex', 'Age', 'SibSp',\n",
       "       'Parch', 'Ticket', 'Fare', 'Cabin', 'Embarked'], dtype='<U11')"
      ]
     },
     "execution_count": 66,
     "metadata": {},
     "output_type": "execute_result"
    }
   ],
   "source": [
    " # 去除name索引数据，通过整数数组来取数据\n",
    "head_index = head_index[data_index]\n",
    "head_index\n"
   ]
  },
  {
   "cell_type": "code",
   "execution_count": 67,
   "metadata": {},
   "outputs": [
    {
     "data": {
      "text/plain": [
       "array([['1', '0', '3', ..., '7.25', '', 'S'],\n",
       "       ['2', '1', '1', ..., '71.2833', 'C85', 'C'],\n",
       "       ['3', '1', '3', ..., '7.925', '', 'S'],\n",
       "       ...,\n",
       "       ['889', '0', '3', ..., '23.45', '', 'S'],\n",
       "       ['890', '1', '1', ..., '30', 'C148', 'C'],\n",
       "       ['891', '0', '3', ..., '7.75', '', 'Q']], dtype='<U83')"
      ]
     },
     "execution_count": 67,
     "metadata": {},
     "output_type": "execute_result"
    }
   ],
   "source": [
    " # 去除name那一列数据\n",
    "corpus_data = data[:,data_index] #数组切片\n",
    "corpus_data\n"
   ]
  },
  {
   "cell_type": "markdown",
   "metadata": {},
   "source": [
    "### 缺失值分析\n",
    "* Age和Cabin字段有较多缺失值，Embanked字段有2个缺失值"
   ]
  },
  {
   "cell_type": "code",
   "execution_count": 68,
   "metadata": {},
   "outputs": [
    {
     "data": {
      "text/plain": [
       "(11, 891)"
      ]
     },
     "execution_count": 68,
     "metadata": {},
     "output_type": "execute_result"
    }
   ],
   "source": [
    "items_data = corpus_data.T #矩阵转置， 旋转90度，原来每一列 成为 新矩阵的每一行\n",
    "items_data.shape #items_data有11行"
   ]
  },
  {
   "cell_type": "code",
   "execution_count": 69,
   "metadata": {},
   "outputs": [
    {
     "data": {
      "text/plain": [
       "[0, 0, 0, 0, 177, 0, 0, 0, 0, 687, 2]"
      ]
     },
     "execution_count": 69,
     "metadata": {},
     "output_type": "execute_result"
    }
   ],
   "source": [
    "null_data = []\n",
    "for col in items_data: #对于 items_data每一行 复制给变量col\n",
    "    null_data.append(sum(col=='')) #计算这一行空值个数\n",
    "null_data\n"
   ]
  },
  {
   "cell_type": "markdown",
   "metadata": {},
   "source": [
    "### 处理缺失值\n",
    "#### 需要进行缺失值处理的有：Age、Cabin、Embarked"
   ]
  },
  {
   "cell_type": "markdown",
   "metadata": {},
   "source": [
    "#### Age填充“平均值”"
   ]
  },
  {
   "cell_type": "code",
   "execution_count": 70,
   "metadata": {},
   "outputs": [
    {
     "name": "stdout",
     "output_type": "stream",
     "text": [
      "int64\n",
      "age_index:4\n",
      "891\n"
     ]
    },
    {
     "data": {
      "text/plain": [
       "29.69911764705882"
      ]
     },
     "execution_count": 70,
     "metadata": {},
     "output_type": "execute_result"
    }
   ],
   "source": [
    " # age属性中有缺失, 通过计算该属性的均值将缺失处填补,使得数据的数量一致\n",
    "age_index = np.argwhere(head_index == 'Age') #查找索引\n",
    "print(age_index.dtype)\n",
    "print(\"age_index:%d\"%age_index) \n",
    "age_data = items_data[4]\n",
    "age_data_null = sum(age_data=='')\n",
    "handle_data = np.where(age_data == '', 0, age_data)#age_data == '' Ture时都换成0，False时换成age_data\n",
    "age_mean = sum(handle_data.astype(np.float))/(len(handle_data)-age_data_null) #非空的年龄的平均值\n",
    "print(len(handle_data))\n",
    "age_mean"
   ]
  },
  {
   "cell_type": "code",
   "execution_count": 71,
   "metadata": {},
   "outputs": [],
   "source": [
    "items_data[4] = np.where(items_data[4] == '', age_mean, items_data[4]) #数组赋值为数组,用均值替换0值"
   ]
  },
  {
   "cell_type": "markdown",
   "metadata": {},
   "source": [
    "#### Embarked填充“众数”"
   ]
  },
  {
   "cell_type": "code",
   "execution_count": 72,
   "metadata": {},
   "outputs": [],
   "source": [
    "#embarked填充众数\n",
    "embarked_index = 10\n",
    "embarked_data = items_data[embarked_index ]\n"
   ]
  },
  {
   "cell_type": "code",
   "execution_count": 73,
   "metadata": {},
   "outputs": [
    {
     "data": {
      "text/plain": [
       "array(['', 'C', 'Q', 'S'], dtype='<U83')"
      ]
     },
     "execution_count": 73,
     "metadata": {},
     "output_type": "execute_result"
    }
   ],
   "source": [
    "np.unique(embarked_data) #返回有几种值"
   ]
  },
  {
   "cell_type": "code",
   "execution_count": 74,
   "metadata": {},
   "outputs": [
    {
     "data": {
      "text/plain": [
       "Counter({'S': 644, 'C': 168, 'Q': 77, '': 2})"
      ]
     },
     "execution_count": 74,
     "metadata": {},
     "output_type": "execute_result"
    }
   ],
   "source": [
    "from collections import Counter\n",
    "Counter(embarked_data) #统计不同舱位数量"
   ]
  },
  {
   "cell_type": "code",
   "execution_count": 75,
   "metadata": {},
   "outputs": [],
   "source": [
    "items_data[10] = np.where(items_data[10] == '', 'S', items_data[10]) #填充缺失值为 众"
   ]
  },
  {
   "cell_type": "markdown",
   "metadata": {},
   "source": [
    "#### Cabin 删除"
   ]
  },
  {
   "cell_type": "code",
   "execution_count": 76,
   "metadata": {
    "scrolled": true
   },
   "outputs": [
    {
     "name": "stdout",
     "output_type": "stream",
     "text": [
      "['PassengerId' 'Survived' 'Pclass' 'Sex' 'Age' 'SibSp' 'Parch' 'Ticket'\n",
      " 'Fare' 'Embarked']\n",
      "[['1' '2' '3' ... '889' '890' '891']\n",
      " ['0' '1' '1' ... '0' '1' '0']\n",
      " ['3' '1' '3' ... '3' '1' '3']\n",
      " ...\n",
      " ['A/5 21171' 'PC 17599' 'STON/O2. 3101282' ... 'W./C. 6607' '111369'\n",
      "  '370376']\n",
      " ['7.25' '71.2833' '7.925' ... '23.45' '30' '7.75']\n",
      " ['S' 'C' 'S' ... 'S' 'C' 'Q']]\n"
     ]
    }
   ],
   "source": [
    "head_index = np.delete(head_index,9)\n",
    "items_data = np.delete(items_data,9, axis = 0)\n",
    "print(head_index)\n",
    "print(items_data)"
   ]
  },
  {
   "cell_type": "markdown",
   "metadata": {},
   "source": [
    "### 数据离散化"
   ]
  },
  {
   "cell_type": "code",
   "execution_count": 78,
   "metadata": {
    "scrolled": true
   },
   "outputs": [
    {
     "data": {
      "text/plain": [
       "array(['female', 'male'], dtype='<U83')"
      ]
     },
     "execution_count": 78,
     "metadata": {},
     "output_type": "execute_result"
    }
   ],
   "source": [
    "# 获取sex的值, 并用0和1代表男性和女性\n",
    "np.unique(items_data[3])"
   ]
  },
  {
   "cell_type": "code",
   "execution_count": 79,
   "metadata": {},
   "outputs": [],
   "source": [
    "items_data[3] = np.where(items_data[3] == 'male', 0, items_data[3])\n",
    "items_data[3] = np.where(items_data[3] == 'female', 1, items_data[3])"
   ]
  },
  {
   "cell_type": "code",
   "execution_count": 80,
   "metadata": {},
   "outputs": [],
   "source": [
    "# 获取embarked的值, 用0,1,2分别表示S,C,Q\n",
    "np.unique(items_data[9])\n",
    "items_data[9] = np.where(items_data[9] == 'S', 0, items_data[9])\n",
    "items_data[9] = np.where(items_data[9] == 'C', 1, items_data[9])\n",
    "items_data[9] = np.where(items_data[9] == 'Q', 2, items_data[9])\n"
   ]
  },
  {
   "cell_type": "markdown",
   "metadata": {},
   "source": [
    "### 数据分析1"
   ]
  },
  {
   "cell_type": "code",
   "execution_count": 82,
   "metadata": {},
   "outputs": [
    {
     "data": {
      "text/plain": [
       "342"
      ]
     },
     "execution_count": 82,
     "metadata": {},
     "output_type": "execute_result"
    }
   ],
   "source": [
    "# 生还者总数\n",
    "items_data[1].astype(np.int32).sum(axis=0) #一维数组 axis只有0，可以不写\n"
   ]
  },
  {
   "cell_type": "code",
   "execution_count": 85,
   "metadata": {},
   "outputs": [
    {
     "data": {
      "text/plain": [
       "0.3838383838383838"
      ]
     },
     "execution_count": 85,
     "metadata": {},
     "output_type": "execute_result"
    }
   ],
   "source": [
    "# 平均生还率\n",
    "items_data[1].astype(np.int32).mean(axis=0)"
   ]
  },
  {
   "cell_type": "markdown",
   "metadata": {},
   "source": [
    "### 数据分析2"
   ]
  },
  {
   "cell_type": "code",
   "execution_count": 89,
   "metadata": {},
   "outputs": [
    {
     "data": {
      "text/plain": [
       "Counter({'3': 491, '1': 216, '2': 184})"
      ]
     },
     "execution_count": 89,
     "metadata": {},
     "output_type": "execute_result"
    }
   ],
   "source": [
    "# 各等级船舱Pclass乘客总数量统计：\n",
    "from collections import Counter\n",
    "data = np.array(items_data[2])\n",
    "Counter(data)"
   ]
  },
  {
   "cell_type": "code",
   "execution_count": 101,
   "metadata": {},
   "outputs": [
    {
     "data": {
      "text/plain": [
       "array([['3', '1', '3', ..., '3', '1', '3'],\n",
       "       ['0', '1', '1', ..., '0', '1', '0']], dtype='<U83')"
      ]
     },
     "execution_count": 101,
     "metadata": {},
     "output_type": "execute_result"
    }
   ],
   "source": [
    "# 各等级船舱生还数量统计：'Pclass', 'Survived'\n",
    "pclass_survived = np.vstack((items_data[2],items_data[1]))\n",
    "pclass_survived\n",
    "unique, counts = np.unique(pclass_survived, return_counts=True,axis=1) #col有几种，各有多少"
   ]
  },
  {
   "cell_type": "code",
   "execution_count": 102,
   "metadata": {},
   "outputs": [
    {
     "data": {
      "text/plain": [
       "array([['1', '1', '2', '2', '3', '3'],\n",
       "       ['0', '1', '0', '1', '0', '1']], dtype='<U83')"
      ]
     },
     "execution_count": 102,
     "metadata": {},
     "output_type": "execute_result"
    }
   ],
   "source": [
    "unique"
   ]
  },
  {
   "cell_type": "code",
   "execution_count": 103,
   "metadata": {},
   "outputs": [
    {
     "data": {
      "text/plain": [
       "array([ 80, 136,  97,  87, 372, 119], dtype=int64)"
      ]
     },
     "execution_count": 103,
     "metadata": {},
     "output_type": "execute_result"
    }
   ],
   "source": [
    "counts"
   ]
  },
  {
   "cell_type": "markdown",
   "metadata": {},
   "source": [
    "- 1 0 组合有80人；1表示头等舱，0表示失踪\n",
    "- 1 1 组合有136人；\n",
    "\n",
    "- 2 0 组合有97人；\n",
    "- 2 1 组合有87人；\n",
    "\n",
    "- 3 0 组合有97人；\n",
    "- 2 1 组合有87人；"
   ]
  },
  {
   "cell_type": "code",
   "execution_count": 104,
   "metadata": {},
   "outputs": [
    {
     "data": {
      "text/plain": [
       "array([0.62962963, 0.47282609, 0.24236253])"
      ]
     },
     "execution_count": 104,
     "metadata": {},
     "output_type": "execute_result"
    }
   ],
   "source": [
    "a = [216, 184, 491]\n",
    "b = [136, 87, 119]\n",
    "np.array(b)/np.array(a) #不同舱位生还率\n"
   ]
  },
  {
   "cell_type": "markdown",
   "metadata": {},
   "source": [
    "### 数据分析3\n",
    "#### 不同性别平均生还率 ['Sex','Survived']"
   ]
  },
  {
   "cell_type": "code",
   "execution_count": 108,
   "metadata": {},
   "outputs": [
    {
     "data": {
      "text/plain": [
       "3"
      ]
     },
     "execution_count": 108,
     "metadata": {},
     "output_type": "execute_result"
    }
   ],
   "source": [
    "sex_index = np.argwhere(head_index == 'Sex')[0][0]\n",
    "sex_index\n"
   ]
  },
  {
   "cell_type": "code",
   "execution_count": 110,
   "metadata": {},
   "outputs": [],
   "source": [
    "#不同性别平均生还率 ['Sex','Survived']\n",
    "sex_survived = np.vstack((items_data[3],items_data[1]))\n",
    "unique, counts = np.unique(sex_survived, return_counts=True,axis=1)"
   ]
  },
  {
   "cell_type": "code",
   "execution_count": 113,
   "metadata": {},
   "outputs": [
    {
     "data": {
      "text/plain": [
       "array([['0', '0', '1', '1'],\n",
       "       ['0', '1', '0', '1']], dtype='<U83')"
      ]
     },
     "execution_count": 113,
     "metadata": {},
     "output_type": "execute_result"
    }
   ],
   "source": [
    "unique"
   ]
  },
  {
   "cell_type": "code",
   "execution_count": 114,
   "metadata": {
    "scrolled": true
   },
   "outputs": [
    {
     "data": {
      "text/plain": [
       "array([468, 109,  81, 233], dtype=int64)"
      ]
     },
     "execution_count": 114,
     "metadata": {},
     "output_type": "execute_result"
    }
   ],
   "source": [
    "counts"
   ]
  },
  {
   "cell_type": "code",
   "execution_count": 116,
   "metadata": {},
   "outputs": [
    {
     "data": {
      "text/plain": [
       "Counter({'0': 577, '1': 314})"
      ]
     },
     "execution_count": 116,
     "metadata": {},
     "output_type": "execute_result"
    }
   ],
   "source": [
    "from collections import Counter\n",
    "data = np.array(items_data[3])\n",
    "Counter(data)\n"
   ]
  },
  {
   "cell_type": "code",
   "execution_count": 118,
   "metadata": {},
   "outputs": [],
   "source": [
    "a = np.array([577,314])\n",
    "b = np.array([109,233])"
   ]
  },
  {
   "cell_type": "code",
   "execution_count": 119,
   "metadata": {},
   "outputs": [
    {
     "data": {
      "text/plain": [
       "array([0.18890815, 0.74203822])"
      ]
     },
     "execution_count": 119,
     "metadata": {},
     "output_type": "execute_result"
    }
   ],
   "source": [
    "b/a"
   ]
  },
  {
   "cell_type": "markdown",
   "metadata": {},
   "source": [
    "#### 乘客中男性共577人，女性314人，女性生还率为74.2%，远高于男性的18.89%。"
   ]
  }
 ],
 "metadata": {
  "kernelspec": {
   "display_name": "Python 3",
   "language": "python",
   "name": "python3"
  },
  "language_info": {
   "codemirror_mode": {
    "name": "ipython",
    "version": 3
   },
   "file_extension": ".py",
   "mimetype": "text/x-python",
   "name": "python",
   "nbconvert_exporter": "python",
   "pygments_lexer": "ipython3",
   "version": "3.7.3"
  }
 },
 "nbformat": 4,
 "nbformat_minor": 2
}
