{
 "cells": [
  {
   "cell_type": "markdown",
   "metadata": {},
   "source": [
    "# <center>Pandas基本语法</center>"
   ]
  },
  {
   "cell_type": "markdown",
   "metadata": {},
   "source": [
    "### 2008年，为满足需要高性能、灵活的数据分析工具，开发商Wes McKinney开始开发Pandas。\n",
    "* 在Pandas之前，Python主要用于数据迁移和准备。它对数据分析的贡献更小。 Pandas解决了这个问题。\n",
    "* 使用Pandas可以完成数据处理和分析的五个典型步骤，而不管数据的来源 - 加载，准备，操作，模型和分析。\n",
    "* Pandas是通过代码来实现Excel和数据库的基本功能，并提供了更丰富的分析函数\n",
    "* Python Pandas用于广泛的领域，包括金融，经济，统计，分析等学术和商业领域。"
   ]
  },
  {
   "cell_type": "code",
   "execution_count": 1,
   "metadata": {},
   "outputs": [],
   "source": [
    "import numpy as np\n",
    "import pandas as pd\n",
    "from pandas import Series,DataFrame"
   ]
  },
  {
   "cell_type": "markdown",
   "metadata": {},
   "source": [
    "### Series：带索引的一维数组。 "
   ]
  },
  {
   "cell_type": "markdown",
   "metadata": {},
   "source": [
    "#### 创建\n",
    "* 通过list或者ndarray可以创建Series，Pandas会自动创建整型索引。"
   ]
  },
  {
   "cell_type": "code",
   "execution_count": 2,
   "metadata": {},
   "outputs": [
    {
     "data": {
      "text/plain": [
       "[1, 2, 3, 4]"
      ]
     },
     "execution_count": 2,
     "metadata": {},
     "output_type": "execute_result"
    }
   ],
   "source": [
    "list1 = [1,2,3,4] ## python的list \n",
    "list1"
   ]
  },
  {
   "cell_type": "code",
   "execution_count": 3,
   "metadata": {},
   "outputs": [
    {
     "data": {
      "text/plain": [
       "array([1, 2, 3, 4])"
      ]
     },
     "execution_count": 3,
     "metadata": {},
     "output_type": "execute_result"
    }
   ],
   "source": [
    "nparray1 = np.array(list1) #NumPy的ndarra\n",
    "nparray1"
   ]
  },
  {
   "cell_type": "code",
   "execution_count": 4,
   "metadata": {},
   "outputs": [
    {
     "data": {
      "text/plain": [
       "0    1\n",
       "1    2\n",
       "2    3\n",
       "3    4\n",
       "dtype: int64"
      ]
     },
     "execution_count": 4,
     "metadata": {},
     "output_type": "execute_result"
    }
   ],
   "source": [
    "series1 = Series(list1) # Pandas的 Series，使用list创建\n",
    "series1"
   ]
  },
  {
   "cell_type": "code",
   "execution_count": 5,
   "metadata": {},
   "outputs": [
    {
     "data": {
      "text/plain": [
       "array([1, 2, 3, 4], dtype=int64)"
      ]
     },
     "execution_count": 5,
     "metadata": {},
     "output_type": "execute_result"
    }
   ],
   "source": [
    "series1.values # series底层是基于ndarray管理数据的，所以 list数据传进来也会转换为 ndarray"
   ]
  },
  {
   "cell_type": "code",
   "execution_count": 6,
   "metadata": {},
   "outputs": [
    {
     "data": {
      "text/plain": [
       "0    1\n",
       "1    2\n",
       "2    3\n",
       "3    4\n",
       "dtype: int32"
      ]
     },
     "execution_count": 6,
     "metadata": {},
     "output_type": "execute_result"
    }
   ],
   "source": [
    "series2=Series(nparray1) # Pandas的 Series，使用ndarray创建\n",
    "series2\n",
    "# series2.values\n"
   ]
  },
  {
   "cell_type": "code",
   "execution_count": 7,
   "metadata": {},
   "outputs": [
    {
     "data": {
      "text/plain": [
       "0      1.0\n",
       "1      3.0\n",
       "2      5.0\n",
       "3    777.0\n",
       "4      6.0\n",
       "5      1.5\n",
       "dtype: float64"
      ]
     },
     "execution_count": 7,
     "metadata": {},
     "output_type": "execute_result"
    }
   ],
   "source": [
    "s=Series([1,3,5,777,6,1.5]) #值的类型会自动统一，ndarray就是这样\n",
    "s\n"
   ]
  },
  {
   "cell_type": "code",
   "execution_count": 8,
   "metadata": {},
   "outputs": [
    {
     "data": {
      "text/plain": [
       "0      1.0\n",
       "5      1.5\n",
       "1      3.0\n",
       "2      5.0\n",
       "4      6.0\n",
       "3    777.0\n",
       "dtype: float64"
      ]
     },
     "execution_count": 8,
     "metadata": {},
     "output_type": "execute_result"
    }
   ],
   "source": [
    "s.sort_values() #排序\n"
   ]
  },
  {
   "cell_type": "code",
   "execution_count": 9,
   "metadata": {},
   "outputs": [
    {
     "data": {
      "text/plain": [
       "array([  1. ,   3. ,   5. , 777. ,   6. ,   1.5])"
      ]
     },
     "execution_count": 9,
     "metadata": {},
     "output_type": "execute_result"
    }
   ],
   "source": [
    "s.values"
   ]
  },
  {
   "cell_type": "code",
   "execution_count": 10,
   "metadata": {},
   "outputs": [
    {
     "data": {
      "text/plain": [
       "RangeIndex(start=0, stop=6, step=1)"
      ]
     },
     "execution_count": 10,
     "metadata": {},
     "output_type": "execute_result"
    }
   ],
   "source": [
    "s.index"
   ]
  },
  {
   "cell_type": "markdown",
   "metadata": {},
   "source": [
    "#### 索引自定义"
   ]
  },
  {
   "cell_type": "code",
   "execution_count": 11,
   "metadata": {},
   "outputs": [
    {
     "data": {
      "text/plain": [
       "a     3\n",
       "b    51\n",
       "c     5\n",
       "d     2\n",
       "e     6\n",
       "dtype: int64"
      ]
     },
     "execution_count": 11,
     "metadata": {},
     "output_type": "execute_result"
    }
   ],
   "source": [
    "s2 = Series([3,51,5,2,6],index=['a','b','c','d','e'])#自己定义索引\n",
    "s2"
   ]
  },
  {
   "cell_type": "code",
   "execution_count": 12,
   "metadata": {},
   "outputs": [
    {
     "data": {
      "text/plain": [
       "Index(['a', 'b', 'c', 'd', 'e'], dtype='object')"
      ]
     },
     "execution_count": 12,
     "metadata": {},
     "output_type": "execute_result"
    }
   ],
   "source": [
    "s2.index"
   ]
  },
  {
   "cell_type": "code",
   "execution_count": 13,
   "metadata": {},
   "outputs": [
    {
     "data": {
      "text/plain": [
       "one       3\n",
       "two      51\n",
       "three     5\n",
       "four      2\n",
       "five      6\n",
       "dtype: int64"
      ]
     },
     "execution_count": 13,
     "metadata": {},
     "output_type": "execute_result"
    }
   ],
   "source": [
    "s2.index =['one','two','three','four','five'] #可以整体替换索引值\n",
    "s2"
   ]
  },
  {
   "cell_type": "code",
   "execution_count": 14,
   "metadata": {},
   "outputs": [],
   "source": [
    "#s2.index[2] = 'x'  #不能单独替换某个自定义索引值"
   ]
  },
  {
   "cell_type": "code",
   "execution_count": 15,
   "metadata": {},
   "outputs": [
    {
     "data": {
      "text/plain": [
       "Ohio      35000\n",
       "Texas      7000\n",
       "Orange    10902\n",
       "dtype: int64"
      ]
     },
     "execution_count": 15,
     "metadata": {},
     "output_type": "execute_result"
    }
   ],
   "source": [
    "sdata = {'Ohio':35000, 'Texas':7000, 'Orange':10902}\n",
    "s3 = Series(sdata)\n",
    "s3"
   ]
  },
  {
   "cell_type": "markdown",
   "metadata": {},
   "source": [
    "#### 值的读取和修改"
   ]
  },
  {
   "cell_type": "code",
   "execution_count": 16,
   "metadata": {},
   "outputs": [
    {
     "data": {
      "text/plain": [
       "2"
      ]
     },
     "execution_count": 16,
     "metadata": {},
     "output_type": "execute_result"
    }
   ],
   "source": [
    "s2 = Series([3,51,5,2,6],index=['a','b','c','d','e'])\n",
    "s2['d'] ##使用索引读取值"
   ]
  },
  {
   "cell_type": "code",
   "execution_count": 17,
   "metadata": {},
   "outputs": [
    {
     "data": {
      "text/plain": [
       "2"
      ]
     },
     "execution_count": 17,
     "metadata": {},
     "output_type": "execute_result"
    }
   ],
   "source": [
    "s2[3] #也可以使用位置（Series默认有整数索引，list和ndarray也有）来读取值，类似 字符串、list、ndarray一样的操作"
   ]
  },
  {
   "cell_type": "code",
   "execution_count": 18,
   "metadata": {},
   "outputs": [
    {
     "data": {
      "text/plain": [
       "a      3\n",
       "b     51\n",
       "c      5\n",
       "d    100\n",
       "e      6\n",
       "dtype: int64"
      ]
     },
     "execution_count": 18,
     "metadata": {},
     "output_type": "execute_result"
    }
   ],
   "source": [
    "s2['d']=100 #类似 list一样修改值，相关的操作都支持\n",
    "s2"
   ]
  },
  {
   "cell_type": "code",
   "execution_count": 19,
   "metadata": {},
   "outputs": [
    {
     "data": {
      "text/plain": [
       "a     3\n",
       "b    51\n",
       "c     5\n",
       "dtype: int64"
      ]
     },
     "execution_count": 19,
     "metadata": {},
     "output_type": "execute_result"
    }
   ],
   "source": [
    "s2[0:3] #使用切片的方式来读取值，按照位置，类似 字符串、list、ndarray一样的操作"
   ]
  },
  {
   "cell_type": "code",
   "execution_count": 20,
   "metadata": {},
   "outputs": [
    {
     "data": {
      "text/plain": [
       "True"
      ]
     },
     "execution_count": 20,
     "metadata": {},
     "output_type": "execute_result"
    }
   ],
   "source": [
    "'c' in s2"
   ]
  },
  {
   "cell_type": "code",
   "execution_count": 21,
   "metadata": {},
   "outputs": [
    {
     "data": {
      "text/plain": [
       "Ohio      False\n",
       "Texas     False\n",
       "Orange    False\n",
       "dtype: bool"
      ]
     },
     "execution_count": 21,
     "metadata": {},
     "output_type": "execute_result"
    }
   ],
   "source": [
    "pd.isnull(s3) #判断空值"
   ]
  },
  {
   "cell_type": "code",
   "execution_count": 22,
   "metadata": {},
   "outputs": [
    {
     "data": {
      "text/plain": [
       "Ohio      True\n",
       "Texas     True\n",
       "Orange    True\n",
       "dtype: bool"
      ]
     },
     "execution_count": 22,
     "metadata": {},
     "output_type": "execute_result"
    }
   ],
   "source": [
    "pd.notnull(s3)"
   ]
  },
  {
   "cell_type": "code",
   "execution_count": 23,
   "metadata": {},
   "outputs": [
    {
     "data": {
      "text/plain": [
       "Ohio      False\n",
       "Texas     False\n",
       "Orange    False\n",
       "dtype: bool"
      ]
     },
     "execution_count": 23,
     "metadata": {},
     "output_type": "execute_result"
    }
   ],
   "source": [
    "s3.isnull()"
   ]
  },
  {
   "cell_type": "markdown",
   "metadata": {},
   "source": [
    "### DataFrame 带索引的二维数组"
   ]
  },
  {
   "cell_type": "markdown",
   "metadata": {},
   "source": [
    "#### 创建\n",
    "* 通过NumPy的数组ndarray可以创建一个DataFrame。\n",
    "* 也可以通过字典来创建DataFrame\n",
    "* DataFrame可以对应Excel里一个表格，数据库里一张表。"
   ]
  },
  {
   "cell_type": "code",
   "execution_count": 24,
   "metadata": {},
   "outputs": [
    {
     "name": "stdout",
     "output_type": "stream",
     "text": [
      "DatetimeIndex(['2013-01-01', '2013-01-02', '2013-01-03', '2013-01-04',\n",
      "               '2013-01-05', '2013-01-06'],\n",
      "              dtype='datetime64[ns]', freq='D')\n"
     ]
    },
    {
     "data": {
      "text/html": [
       "<div>\n",
       "<style scoped>\n",
       "    .dataframe tbody tr th:only-of-type {\n",
       "        vertical-align: middle;\n",
       "    }\n",
       "\n",
       "    .dataframe tbody tr th {\n",
       "        vertical-align: top;\n",
       "    }\n",
       "\n",
       "    .dataframe thead th {\n",
       "        text-align: right;\n",
       "    }\n",
       "</style>\n",
       "<table border=\"1\" class=\"dataframe\">\n",
       "  <thead>\n",
       "    <tr style=\"text-align: right;\">\n",
       "      <th></th>\n",
       "      <th>A</th>\n",
       "      <th>B</th>\n",
       "      <th>C</th>\n",
       "      <th>D</th>\n",
       "    </tr>\n",
       "  </thead>\n",
       "  <tbody>\n",
       "    <tr>\n",
       "      <th>2013-01-01</th>\n",
       "      <td>-0.187258</td>\n",
       "      <td>1.477250</td>\n",
       "      <td>0.702187</td>\n",
       "      <td>0.718655</td>\n",
       "    </tr>\n",
       "    <tr>\n",
       "      <th>2013-01-02</th>\n",
       "      <td>-1.983568</td>\n",
       "      <td>-0.649221</td>\n",
       "      <td>-0.413167</td>\n",
       "      <td>0.693685</td>\n",
       "    </tr>\n",
       "    <tr>\n",
       "      <th>2013-01-03</th>\n",
       "      <td>-0.935931</td>\n",
       "      <td>-0.098597</td>\n",
       "      <td>0.991036</td>\n",
       "      <td>0.718883</td>\n",
       "    </tr>\n",
       "    <tr>\n",
       "      <th>2013-01-04</th>\n",
       "      <td>1.351130</td>\n",
       "      <td>0.882000</td>\n",
       "      <td>-0.270051</td>\n",
       "      <td>-0.602641</td>\n",
       "    </tr>\n",
       "    <tr>\n",
       "      <th>2013-01-05</th>\n",
       "      <td>-0.242269</td>\n",
       "      <td>-0.809428</td>\n",
       "      <td>-0.203380</td>\n",
       "      <td>-0.052366</td>\n",
       "    </tr>\n",
       "    <tr>\n",
       "      <th>2013-01-06</th>\n",
       "      <td>-0.078641</td>\n",
       "      <td>0.619125</td>\n",
       "      <td>-0.631377</td>\n",
       "      <td>-1.537023</td>\n",
       "    </tr>\n",
       "  </tbody>\n",
       "</table>\n",
       "</div>"
      ],
      "text/plain": [
       "                   A         B         C         D\n",
       "2013-01-01 -0.187258  1.477250  0.702187  0.718655\n",
       "2013-01-02 -1.983568 -0.649221 -0.413167  0.693685\n",
       "2013-01-03 -0.935931 -0.098597  0.991036  0.718883\n",
       "2013-01-04  1.351130  0.882000 -0.270051 -0.602641\n",
       "2013-01-05 -0.242269 -0.809428 -0.203380 -0.052366\n",
       "2013-01-06 -0.078641  0.619125 -0.631377 -1.537023"
      ]
     },
     "execution_count": 24,
     "metadata": {},
     "output_type": "execute_result"
    }
   ],
   "source": [
    "dates=pd.date_range('20130101',periods=6)\n",
    "print(dates)\n",
    "df=pd.DataFrame(np.random.randn(6,4),index=dates,columns=list('ABCD'))\n",
    "df"
   ]
  },
  {
   "cell_type": "code",
   "execution_count": 25,
   "metadata": {},
   "outputs": [
    {
     "name": "stdout",
     "output_type": "stream",
     "text": [
      "     A          B    C  D      E    F\n",
      "0  1.0 2013-01-02  1.0  3   test  foo\n",
      "1  1.0 2013-01-02  1.0  3  train  foo\n",
      "2  1.0 2013-01-02  1.0  3   test  foo\n",
      "3  1.0 2013-01-02  1.0  3  train  foo\n"
     ]
    }
   ],
   "source": [
    "df2=pd.DataFrame({'A':1.,\n",
    "    'B':pd.Timestamp('20130102'),\n",
    "    'C':pd.Series(1,index=list(range(4)),dtype='float32'),\n",
    "    'D':np.array([3]*4,dtype='int32'),\n",
    "    'E':pd.Categorical(['test','train','test','train']),\n",
    "    'F':'foo'})\n",
    "print(df2)"
   ]
  },
  {
   "cell_type": "code",
   "execution_count": 26,
   "metadata": {},
   "outputs": [
    {
     "data": {
      "text/plain": [
       "A           float64\n",
       "B    datetime64[ns]\n",
       "C           float32\n",
       "D             int32\n",
       "E          category\n",
       "F            object\n",
       "dtype: object"
      ]
     },
     "execution_count": 26,
     "metadata": {},
     "output_type": "execute_result"
    }
   ],
   "source": [
    "df2.dtypes #每一列（column）类型可以不同"
   ]
  },
  {
   "cell_type": "code",
   "execution_count": 27,
   "metadata": {},
   "outputs": [
    {
     "data": {
      "text/html": [
       "<div>\n",
       "<style scoped>\n",
       "    .dataframe tbody tr th:only-of-type {\n",
       "        vertical-align: middle;\n",
       "    }\n",
       "\n",
       "    .dataframe tbody tr th {\n",
       "        vertical-align: top;\n",
       "    }\n",
       "\n",
       "    .dataframe thead th {\n",
       "        text-align: right;\n",
       "    }\n",
       "</style>\n",
       "<table border=\"1\" class=\"dataframe\">\n",
       "  <thead>\n",
       "    <tr style=\"text-align: right;\">\n",
       "      <th></th>\n",
       "      <th>year</th>\n",
       "      <th>state</th>\n",
       "      <th>pop</th>\n",
       "      <th>debt</th>\n",
       "    </tr>\n",
       "  </thead>\n",
       "  <tbody>\n",
       "    <tr>\n",
       "      <th>one</th>\n",
       "      <td>2000</td>\n",
       "      <td>Ohio</td>\n",
       "      <td>1.5</td>\n",
       "      <td>NaN</td>\n",
       "    </tr>\n",
       "    <tr>\n",
       "      <th>two</th>\n",
       "      <td>2001</td>\n",
       "      <td>Ohio</td>\n",
       "      <td>1.7</td>\n",
       "      <td>NaN</td>\n",
       "    </tr>\n",
       "    <tr>\n",
       "      <th>three</th>\n",
       "      <td>2002</td>\n",
       "      <td>Ohio</td>\n",
       "      <td>3.6</td>\n",
       "      <td>NaN</td>\n",
       "    </tr>\n",
       "    <tr>\n",
       "      <th>four</th>\n",
       "      <td>2001</td>\n",
       "      <td>Nevada</td>\n",
       "      <td>2.4</td>\n",
       "      <td>NaN</td>\n",
       "    </tr>\n",
       "    <tr>\n",
       "      <th>five</th>\n",
       "      <td>2002</td>\n",
       "      <td>Nevada</td>\n",
       "      <td>2.9</td>\n",
       "      <td>NaN</td>\n",
       "    </tr>\n",
       "  </tbody>\n",
       "</table>\n",
       "</div>"
      ],
      "text/plain": [
       "       year   state  pop debt\n",
       "one    2000    Ohio  1.5  NaN\n",
       "two    2001    Ohio  1.7  NaN\n",
       "three  2002    Ohio  3.6  NaN\n",
       "four   2001  Nevada  2.4  NaN\n",
       "five   2002  Nevada  2.9  NaN"
      ]
     },
     "execution_count": 27,
     "metadata": {},
     "output_type": "execute_result"
    }
   ],
   "source": [
    "data={'state':['Ohio','Ohio','Ohio','Nevada','Nevada'],\n",
    "    'year':[2000, 2001, 2002, 2001, 2002],\n",
    "    'pop':[1.5, 1.7, 3.6, 2.4, 2.9]}\n",
    "df3 = pd.DataFrame(data,columns=['year', 'state', 'pop', 'debt'], index=['one', 'two', 'three', 'four', 'five'])\n",
    "df3"
   ]
  },
  {
   "cell_type": "code",
   "execution_count": 28,
   "metadata": {},
   "outputs": [
    {
     "data": {
      "text/html": [
       "<div>\n",
       "<style scoped>\n",
       "    .dataframe tbody tr th:only-of-type {\n",
       "        vertical-align: middle;\n",
       "    }\n",
       "\n",
       "    .dataframe tbody tr th {\n",
       "        vertical-align: top;\n",
       "    }\n",
       "\n",
       "    .dataframe thead th {\n",
       "        text-align: right;\n",
       "    }\n",
       "</style>\n",
       "<table border=\"1\" class=\"dataframe\">\n",
       "  <thead>\n",
       "    <tr style=\"text-align: right;\">\n",
       "      <th></th>\n",
       "      <th>year</th>\n",
       "      <th>state</th>\n",
       "      <th>pop</th>\n",
       "      <th>debt</th>\n",
       "    </tr>\n",
       "  </thead>\n",
       "  <tbody>\n",
       "    <tr>\n",
       "      <th>one</th>\n",
       "      <td>2000</td>\n",
       "      <td>Ohio</td>\n",
       "      <td>1.5</td>\n",
       "      <td>16</td>\n",
       "    </tr>\n",
       "    <tr>\n",
       "      <th>two</th>\n",
       "      <td>2001</td>\n",
       "      <td>Ohio</td>\n",
       "      <td>1.7</td>\n",
       "      <td>16</td>\n",
       "    </tr>\n",
       "    <tr>\n",
       "      <th>three</th>\n",
       "      <td>2002</td>\n",
       "      <td>Ohio</td>\n",
       "      <td>3.6</td>\n",
       "      <td>16</td>\n",
       "    </tr>\n",
       "    <tr>\n",
       "      <th>four</th>\n",
       "      <td>2001</td>\n",
       "      <td>Nevada</td>\n",
       "      <td>2.4</td>\n",
       "      <td>16</td>\n",
       "    </tr>\n",
       "    <tr>\n",
       "      <th>five</th>\n",
       "      <td>2002</td>\n",
       "      <td>Nevada</td>\n",
       "      <td>2.9</td>\n",
       "      <td>16</td>\n",
       "    </tr>\n",
       "  </tbody>\n",
       "</table>\n",
       "</div>"
      ],
      "text/plain": [
       "       year   state  pop  debt\n",
       "one    2000    Ohio  1.5    16\n",
       "two    2001    Ohio  1.7    16\n",
       "three  2002    Ohio  3.6    16\n",
       "four   2001  Nevada  2.4    16\n",
       "five   2002  Nevada  2.9    16"
      ]
     },
     "execution_count": 28,
     "metadata": {},
     "output_type": "execute_result"
    }
   ],
   "source": [
    "df3['debt']=16 #给一个列（column）赋值\n",
    "df3"
   ]
  },
  {
   "cell_type": "markdown",
   "metadata": {},
   "source": [
    "#### 查看数据"
   ]
  },
  {
   "cell_type": "code",
   "execution_count": 29,
   "metadata": {},
   "outputs": [
    {
     "name": "stdout",
     "output_type": "stream",
     "text": [
      "                   A         B         C         D\n",
      "2013-01-01 -0.187258  1.477250  0.702187  0.718655\n",
      "2013-01-02 -1.983568 -0.649221 -0.413167  0.693685\n",
      "2013-01-03 -0.935931 -0.098597  0.991036  0.718883\n",
      "2013-01-04  1.351130  0.882000 -0.270051 -0.602641\n",
      "2013-01-05 -0.242269 -0.809428 -0.203380 -0.052366\n",
      "2013-01-06 -0.078641  0.619125 -0.631377 -1.537023\n",
      "                   A         B         C         D\n",
      "2013-01-04  1.351130  0.882000 -0.270051 -0.602641\n",
      "2013-01-05 -0.242269 -0.809428 -0.203380 -0.052366\n",
      "2013-01-06 -0.078641  0.619125 -0.631377 -1.537023\n"
     ]
    }
   ],
   "source": [
    "# 查看数据的顶部和底部\n",
    "print(df.head(8))\n",
    "print(df.tail(3))\n"
   ]
  },
  {
   "cell_type": "code",
   "execution_count": 30,
   "metadata": {},
   "outputs": [
    {
     "name": "stdout",
     "output_type": "stream",
     "text": [
      "DatetimeIndex(['2013-01-01', '2013-01-02', '2013-01-03', '2013-01-04',\n",
      "               '2013-01-05', '2013-01-06'],\n",
      "              dtype='datetime64[ns]', freq='D')\n",
      "Index(['A', 'B', 'C', 'D'], dtype='object')\n",
      "[[-0.18725797  1.47724954  0.70218729  0.71865521]\n",
      " [-1.9835679  -0.64922098 -0.41316685  0.69368521]\n",
      " [-0.93593101 -0.09859743  0.99103611  0.71888341]\n",
      " [ 1.35113002  0.88199992 -0.27005082 -0.60264127]\n",
      " [-0.24226859 -0.80942799 -0.20337959 -0.05236593]\n",
      " [-0.07864072  0.61912509 -0.63137738 -1.53702301]]\n"
     ]
    }
   ],
   "source": [
    "# 查看索引，列名，以及纯的NumPy数据\n",
    "print(df.index)\n",
    "print(df.columns)\n",
    "print(df.values)"
   ]
  },
  {
   "cell_type": "markdown",
   "metadata": {},
   "source": [
    "#### DataFrame.describe() 提供了便捷的数据统计\n",
    "1. count：返回数组的个数，如上述为4个元素，所以返回为4；\n",
    "2. mean：返回数组的平均e79fa5e98193e59b9ee7ad9431333433623135值，1 3 5 9的平均值为4.5；\n",
    "3. std：返回数组的标准差；\n",
    "4. min：返回数组的最小值；\n",
    "5. 25%，50%，75%：返回数组的三个不同百分位置的数值，也就是统计学中的四分位数。\n",
    "6. max：最大值"
   ]
  },
  {
   "cell_type": "code",
   "execution_count": 31,
   "metadata": {},
   "outputs": [
    {
     "name": "stdout",
     "output_type": "stream",
     "text": [
      "                   A         B         C         D\n",
      "2013-01-01 -0.187258  1.477250  0.702187  0.718655\n",
      "2013-01-02 -1.983568 -0.649221 -0.413167  0.693685\n",
      "2013-01-03 -0.935931 -0.098597  0.991036  0.718883\n",
      "2013-01-04  1.351130  0.882000 -0.270051 -0.602641\n",
      "2013-01-05 -0.242269 -0.809428 -0.203380 -0.052366\n",
      "2013-01-06 -0.078641  0.619125 -0.631377 -1.537023\n",
      "              A         B         C         D\n",
      "count  6.000000  6.000000  6.000000  6.000000\n",
      "mean  -0.346089  0.236855  0.029208 -0.010134\n",
      "std    1.097027  0.904797  0.656313  0.921108\n",
      "min   -1.983568 -0.809428 -0.631377 -1.537023\n",
      "25%   -0.762515 -0.511565 -0.377388 -0.465072\n",
      "50%   -0.214763  0.260264 -0.236715  0.320660\n",
      "75%   -0.105795  0.816281  0.475796  0.712413\n",
      "max    1.351130  1.477250  0.991036  0.718883\n"
     ]
    }
   ],
   "source": [
    "print(df)\n",
    "print(df.describe())"
   ]
  },
  {
   "cell_type": "code",
   "execution_count": 32,
   "metadata": {},
   "outputs": [
    {
     "name": "stdout",
     "output_type": "stream",
     "text": [
      "   2013-01-01  2013-01-02  2013-01-03  2013-01-04  2013-01-05  2013-01-06\n",
      "A   -0.187258   -1.983568   -0.935931    1.351130   -0.242269   -0.078641\n",
      "B    1.477250   -0.649221   -0.098597    0.882000   -0.809428    0.619125\n",
      "C    0.702187   -0.413167    0.991036   -0.270051   -0.203380   -0.631377\n",
      "D    0.718655    0.693685    0.718883   -0.602641   -0.052366   -1.537023\n"
     ]
    }
   ],
   "source": [
    "#转置矩阵\n",
    "print(df.T)"
   ]
  },
  {
   "cell_type": "code",
   "execution_count": 33,
   "metadata": {},
   "outputs": [
    {
     "name": "stdout",
     "output_type": "stream",
     "text": [
      "                   A         B         C         D\n",
      "2013-01-06 -0.078641  0.619125 -0.631377 -1.537023\n",
      "2013-01-05 -0.242269 -0.809428 -0.203380 -0.052366\n",
      "2013-01-04  1.351130  0.882000 -0.270051 -0.602641\n",
      "2013-01-03 -0.935931 -0.098597  0.991036  0.718883\n",
      "2013-01-02 -1.983568 -0.649221 -0.413167  0.693685\n",
      "2013-01-01 -0.187258  1.477250  0.702187  0.718655\n"
     ]
    }
   ],
   "source": [
    "#沿某一轴排序\n",
    "print(df.sort_index(axis=0,ascending=False))\n"
   ]
  },
  {
   "cell_type": "code",
   "execution_count": 34,
   "metadata": {},
   "outputs": [
    {
     "name": "stdout",
     "output_type": "stream",
     "text": [
      "                   A         B         C         D\n",
      "2013-01-06 -0.078641  0.619125 -0.631377 -1.537023\n",
      "2013-01-02 -1.983568 -0.649221 -0.413167  0.693685\n",
      "2013-01-04  1.351130  0.882000 -0.270051 -0.602641\n",
      "2013-01-05 -0.242269 -0.809428 -0.203380 -0.052366\n",
      "2013-01-01 -0.187258  1.477250  0.702187  0.718655\n",
      "2013-01-03 -0.935931 -0.098597  0.991036  0.718883\n"
     ]
    }
   ],
   "source": [
    "#按照值进行排序\n",
    "print(df.sort_values(by='C'))"
   ]
  },
  {
   "cell_type": "markdown",
   "metadata": {},
   "source": [
    "#### 数据选择\n",
    "1. 注意：尽管Python标准库和NumPy的语句在选择和设置数据时更直观和方便交互。但是在生产环境中，我们更建议使用Pandas的数据访问函数： .at, .iat, .loc, .iloc\n",
    "2. 数据获取，选择一列，返回Series。等同于df.A"
   ]
  },
  {
   "cell_type": "code",
   "execution_count": 35,
   "metadata": {},
   "outputs": [
    {
     "data": {
      "text/html": [
       "<div>\n",
       "<style scoped>\n",
       "    .dataframe tbody tr th:only-of-type {\n",
       "        vertical-align: middle;\n",
       "    }\n",
       "\n",
       "    .dataframe tbody tr th {\n",
       "        vertical-align: top;\n",
       "    }\n",
       "\n",
       "    .dataframe thead th {\n",
       "        text-align: right;\n",
       "    }\n",
       "</style>\n",
       "<table border=\"1\" class=\"dataframe\">\n",
       "  <thead>\n",
       "    <tr style=\"text-align: right;\">\n",
       "      <th></th>\n",
       "      <th>A</th>\n",
       "      <th>B</th>\n",
       "      <th>C</th>\n",
       "      <th>D</th>\n",
       "    </tr>\n",
       "  </thead>\n",
       "  <tbody>\n",
       "    <tr>\n",
       "      <th>2013-01-01</th>\n",
       "      <td>-0.187258</td>\n",
       "      <td>1.477250</td>\n",
       "      <td>0.702187</td>\n",
       "      <td>0.718655</td>\n",
       "    </tr>\n",
       "    <tr>\n",
       "      <th>2013-01-02</th>\n",
       "      <td>-1.983568</td>\n",
       "      <td>-0.649221</td>\n",
       "      <td>-0.413167</td>\n",
       "      <td>0.693685</td>\n",
       "    </tr>\n",
       "    <tr>\n",
       "      <th>2013-01-03</th>\n",
       "      <td>-0.935931</td>\n",
       "      <td>-0.098597</td>\n",
       "      <td>0.991036</td>\n",
       "      <td>0.718883</td>\n",
       "    </tr>\n",
       "    <tr>\n",
       "      <th>2013-01-04</th>\n",
       "      <td>1.351130</td>\n",
       "      <td>0.882000</td>\n",
       "      <td>-0.270051</td>\n",
       "      <td>-0.602641</td>\n",
       "    </tr>\n",
       "    <tr>\n",
       "      <th>2013-01-05</th>\n",
       "      <td>-0.242269</td>\n",
       "      <td>-0.809428</td>\n",
       "      <td>-0.203380</td>\n",
       "      <td>-0.052366</td>\n",
       "    </tr>\n",
       "    <tr>\n",
       "      <th>2013-01-06</th>\n",
       "      <td>-0.078641</td>\n",
       "      <td>0.619125</td>\n",
       "      <td>-0.631377</td>\n",
       "      <td>-1.537023</td>\n",
       "    </tr>\n",
       "  </tbody>\n",
       "</table>\n",
       "</div>"
      ],
      "text/plain": [
       "                   A         B         C         D\n",
       "2013-01-01 -0.187258  1.477250  0.702187  0.718655\n",
       "2013-01-02 -1.983568 -0.649221 -0.413167  0.693685\n",
       "2013-01-03 -0.935931 -0.098597  0.991036  0.718883\n",
       "2013-01-04  1.351130  0.882000 -0.270051 -0.602641\n",
       "2013-01-05 -0.242269 -0.809428 -0.203380 -0.052366\n",
       "2013-01-06 -0.078641  0.619125 -0.631377 -1.537023"
      ]
     },
     "execution_count": 35,
     "metadata": {},
     "output_type": "execute_result"
    }
   ],
   "source": [
    "df"
   ]
  },
  {
   "cell_type": "code",
   "execution_count": 36,
   "metadata": {},
   "outputs": [
    {
     "data": {
      "text/html": [
       "<div>\n",
       "<style scoped>\n",
       "    .dataframe tbody tr th:only-of-type {\n",
       "        vertical-align: middle;\n",
       "    }\n",
       "\n",
       "    .dataframe tbody tr th {\n",
       "        vertical-align: top;\n",
       "    }\n",
       "\n",
       "    .dataframe thead th {\n",
       "        text-align: right;\n",
       "    }\n",
       "</style>\n",
       "<table border=\"1\" class=\"dataframe\">\n",
       "  <thead>\n",
       "    <tr style=\"text-align: right;\">\n",
       "      <th></th>\n",
       "      <th>A</th>\n",
       "      <th>B</th>\n",
       "    </tr>\n",
       "  </thead>\n",
       "  <tbody>\n",
       "    <tr>\n",
       "      <th>2013-01-01</th>\n",
       "      <td>-0.187258</td>\n",
       "      <td>1.477250</td>\n",
       "    </tr>\n",
       "    <tr>\n",
       "      <th>2013-01-02</th>\n",
       "      <td>-1.983568</td>\n",
       "      <td>-0.649221</td>\n",
       "    </tr>\n",
       "    <tr>\n",
       "      <th>2013-01-03</th>\n",
       "      <td>-0.935931</td>\n",
       "      <td>-0.098597</td>\n",
       "    </tr>\n",
       "    <tr>\n",
       "      <th>2013-01-04</th>\n",
       "      <td>1.351130</td>\n",
       "      <td>0.882000</td>\n",
       "    </tr>\n",
       "    <tr>\n",
       "      <th>2013-01-05</th>\n",
       "      <td>-0.242269</td>\n",
       "      <td>-0.809428</td>\n",
       "    </tr>\n",
       "    <tr>\n",
       "      <th>2013-01-06</th>\n",
       "      <td>-0.078641</td>\n",
       "      <td>0.619125</td>\n",
       "    </tr>\n",
       "  </tbody>\n",
       "</table>\n",
       "</div>"
      ],
      "text/plain": [
       "                   A         B\n",
       "2013-01-01 -0.187258  1.477250\n",
       "2013-01-02 -1.983568 -0.649221\n",
       "2013-01-03 -0.935931 -0.098597\n",
       "2013-01-04  1.351130  0.882000\n",
       "2013-01-05 -0.242269 -0.809428\n",
       "2013-01-06 -0.078641  0.619125"
      ]
     },
     "execution_count": 36,
     "metadata": {},
     "output_type": "execute_result"
    }
   ],
   "source": [
    "df[['A','B']]"
   ]
  },
  {
   "cell_type": "code",
   "execution_count": 37,
   "metadata": {},
   "outputs": [
    {
     "name": "stdout",
     "output_type": "stream",
     "text": [
      "                   A         B         C         D\n",
      "2013-01-01 -0.187258  1.477250  0.702187  0.718655\n",
      "2013-01-02 -1.983568 -0.649221 -0.413167  0.693685\n",
      "2013-01-03 -0.935931 -0.098597  0.991036  0.718883\n",
      "                   A         B         C         D\n",
      "2013-01-02 -1.983568 -0.649221 -0.413167  0.693685\n",
      "2013-01-03 -0.935931 -0.098597  0.991036  0.718883\n",
      "2013-01-04  1.351130  0.882000 -0.270051 -0.602641\n"
     ]
    }
   ],
   "source": [
    "#使用 [] 来切分多行数据，按行切分\n",
    "print(df[0:3])\n",
    "print(df['20130102':'20130104'])"
   ]
  },
  {
   "cell_type": "code",
   "execution_count": 38,
   "metadata": {},
   "outputs": [
    {
     "data": {
      "text/plain": [
       "A   -0.187258\n",
       "B    1.477250\n",
       "C    0.702187\n",
       "D    0.718655\n",
       "Name: 2013-01-01 00:00:00, dtype: float64"
      ]
     },
     "execution_count": 38,
     "metadata": {},
     "output_type": "execute_result"
    }
   ],
   "source": [
    "#根据标签选择 loc。使用标签来得到特定的一行,loc根据两个方向的index来选取，行列通过逗号隔开\n",
    "df.loc['2013-01-01']"
   ]
  },
  {
   "cell_type": "code",
   "execution_count": 39,
   "metadata": {
    "scrolled": true
   },
   "outputs": [
    {
     "name": "stdout",
     "output_type": "stream",
     "text": [
      "                   A         B\n",
      "2013-01-01 -0.187258  1.477250\n",
      "2013-01-02 -1.983568 -0.649221\n",
      "2013-01-03 -0.935931 -0.098597\n",
      "2013-01-04  1.351130  0.882000\n",
      "2013-01-05 -0.242269 -0.809428\n",
      "2013-01-06 -0.078641  0.619125\n"
     ]
    }
   ],
   "source": [
    "#使用标签来得到多个指定的列\n",
    "print(df.loc[:,['A','B']])"
   ]
  },
  {
   "cell_type": "code",
   "execution_count": 40,
   "metadata": {},
   "outputs": [
    {
     "name": "stdout",
     "output_type": "stream",
     "text": [
      "                   A\n",
      "2013-01-02 -1.983568\n",
      "2013-01-03 -0.935931\n",
      "2013-01-04  1.351130\n"
     ]
    }
   ],
   "source": [
    "#用标签来切片时，端点的值都是被包含在内的\n",
    "print(df.loc['20130102':'20130104',['A']])"
   ]
  },
  {
   "cell_type": "code",
   "execution_count": 41,
   "metadata": {},
   "outputs": [
    {
     "data": {
      "text/plain": [
       "A   -1.983568\n",
       "B   -0.649221\n",
       "Name: 2013-01-02 00:00:00, dtype: float64"
      ]
     },
     "execution_count": 41,
     "metadata": {},
     "output_type": "execute_result"
    }
   ],
   "source": [
    "#选择的返回值可以降低维度\n",
    "df.loc['20130102',['A','B']]"
   ]
  },
  {
   "cell_type": "code",
   "execution_count": 42,
   "metadata": {
    "scrolled": true
   },
   "outputs": [
    {
     "data": {
      "text/html": [
       "<div>\n",
       "<style scoped>\n",
       "    .dataframe tbody tr th:only-of-type {\n",
       "        vertical-align: middle;\n",
       "    }\n",
       "\n",
       "    .dataframe tbody tr th {\n",
       "        vertical-align: top;\n",
       "    }\n",
       "\n",
       "    .dataframe thead th {\n",
       "        text-align: right;\n",
       "    }\n",
       "</style>\n",
       "<table border=\"1\" class=\"dataframe\">\n",
       "  <thead>\n",
       "    <tr style=\"text-align: right;\">\n",
       "      <th></th>\n",
       "      <th>A</th>\n",
       "      <th>B</th>\n",
       "      <th>C</th>\n",
       "      <th>D</th>\n",
       "    </tr>\n",
       "  </thead>\n",
       "  <tbody>\n",
       "    <tr>\n",
       "      <th>2013-01-01</th>\n",
       "      <td>False</td>\n",
       "      <td>False</td>\n",
       "      <td>False</td>\n",
       "      <td>False</td>\n",
       "    </tr>\n",
       "    <tr>\n",
       "      <th>2013-01-02</th>\n",
       "      <td>False</td>\n",
       "      <td>False</td>\n",
       "      <td>False</td>\n",
       "      <td>False</td>\n",
       "    </tr>\n",
       "    <tr>\n",
       "      <th>2013-01-03</th>\n",
       "      <td>False</td>\n",
       "      <td>False</td>\n",
       "      <td>False</td>\n",
       "      <td>False</td>\n",
       "    </tr>\n",
       "    <tr>\n",
       "      <th>2013-01-04</th>\n",
       "      <td>False</td>\n",
       "      <td>False</td>\n",
       "      <td>False</td>\n",
       "      <td>False</td>\n",
       "    </tr>\n",
       "    <tr>\n",
       "      <th>2013-01-05</th>\n",
       "      <td>False</td>\n",
       "      <td>False</td>\n",
       "      <td>False</td>\n",
       "      <td>False</td>\n",
       "    </tr>\n",
       "    <tr>\n",
       "      <th>2013-01-06</th>\n",
       "      <td>False</td>\n",
       "      <td>False</td>\n",
       "      <td>False</td>\n",
       "      <td>False</td>\n",
       "    </tr>\n",
       "  </tbody>\n",
       "</table>\n",
       "</div>"
      ],
      "text/plain": [
       "                A      B      C      D\n",
       "2013-01-01  False  False  False  False\n",
       "2013-01-02  False  False  False  False\n",
       "2013-01-03  False  False  False  False\n",
       "2013-01-04  False  False  False  False\n",
       "2013-01-05  False  False  False  False\n",
       "2013-01-06  False  False  False  False"
      ]
     },
     "execution_count": 42,
     "metadata": {},
     "output_type": "execute_result"
    }
   ],
   "source": [
    "df.isnull()"
   ]
  },
  {
   "cell_type": "code",
   "execution_count": 43,
   "metadata": {},
   "outputs": [
    {
     "data": {
      "text/plain": [
       "-0.18725796901150524"
      ]
     },
     "execution_count": 43,
     "metadata": {},
     "output_type": "execute_result"
    }
   ],
   "source": [
    "#选择一个标量\n",
    "df.loc[dates[0],'A']"
   ]
  },
  {
   "cell_type": "code",
   "execution_count": 44,
   "metadata": {},
   "outputs": [
    {
     "data": {
      "text/plain": [
       "-0.18725796901150524"
      ]
     },
     "execution_count": 44,
     "metadata": {},
     "output_type": "execute_result"
    }
   ],
   "source": [
    "# 快速获取一个标量（与上面相同）\n",
    "df.at[dates[0],'A']"
   ]
  },
  {
   "cell_type": "code",
   "execution_count": 45,
   "metadata": {},
   "outputs": [
    {
     "name": "stdout",
     "output_type": "stream",
     "text": [
      "                   A         B         C         D\n",
      "2013-01-01 -0.187258  1.477250  0.702187  0.718655\n",
      "2013-01-02 -1.983568 -0.649221 -0.413167  0.693685\n",
      "2013-01-03 -0.935931 -0.098597  0.991036  0.718883\n",
      "2013-01-04  1.351130  0.882000 -0.270051 -0.602641\n",
      "2013-01-05 -0.242269 -0.809428 -0.203380 -0.052366\n",
      "2013-01-06 -0.078641  0.619125 -0.631377 -1.537023\n"
     ]
    },
    {
     "data": {
      "text/plain": [
       "A    1.351130\n",
       "B    0.882000\n",
       "C   -0.270051\n",
       "D   -0.602641\n",
       "Name: 2013-01-04 00:00:00, dtype: float64"
      ]
     },
     "execution_count": 45,
     "metadata": {},
     "output_type": "execute_result"
    }
   ],
   "source": [
    "#根据位置进行选择 iloc。根据整数下标来选择数据；iloc 根据 index的具体位置 ，从0开始的整数序列\n",
    "print(df)\n",
    "df.iloc[3]"
   ]
  },
  {
   "cell_type": "code",
   "execution_count": 46,
   "metadata": {},
   "outputs": [
    {
     "name": "stdout",
     "output_type": "stream",
     "text": [
      "                   A         B\n",
      "2013-01-04  1.351130  0.882000\n",
      "2013-01-05 -0.242269 -0.809428\n"
     ]
    }
   ],
   "source": [
    "# 用整数来切片，类似于Python标准库和NumPy,不含端点的值\n",
    "print(df.iloc[3:5,0:2])"
   ]
  },
  {
   "cell_type": "code",
   "execution_count": 47,
   "metadata": {},
   "outputs": [
    {
     "name": "stdout",
     "output_type": "stream",
     "text": [
      "                   A         B         C         D\n",
      "2013-01-02 -1.983568 -0.649221 -0.413167  0.693685\n",
      "2013-01-03 -0.935931 -0.098597  0.991036  0.718883\n"
     ]
    }
   ],
   "source": [
    "#对行进行切片选择\n",
    "print(df.iloc[1:3,:])"
   ]
  },
  {
   "cell_type": "code",
   "execution_count": 48,
   "metadata": {},
   "outputs": [
    {
     "name": "stdout",
     "output_type": "stream",
     "text": [
      "                   B         C\n",
      "2013-01-01  1.477250  0.702187\n",
      "2013-01-02 -0.649221 -0.413167\n",
      "2013-01-03 -0.098597  0.991036\n",
      "2013-01-04  0.882000 -0.270051\n",
      "2013-01-05 -0.809428 -0.203380\n",
      "2013-01-06  0.619125 -0.631377\n"
     ]
    }
   ],
   "source": [
    "#对列进行切片选择\n",
    "print(df.iloc[:,1:3])"
   ]
  },
  {
   "cell_type": "code",
   "execution_count": 49,
   "metadata": {},
   "outputs": [
    {
     "data": {
      "text/plain": [
       "-0.649220982594983"
      ]
     },
     "execution_count": 49,
     "metadata": {},
     "output_type": "execute_result"
    }
   ],
   "source": [
    "#获取某个标量\n",
    "df.iloc[1,1]"
   ]
  },
  {
   "cell_type": "code",
   "execution_count": 50,
   "metadata": {},
   "outputs": [
    {
     "data": {
      "text/plain": [
       "-0.649220982594983"
      ]
     },
     "execution_count": 50,
     "metadata": {},
     "output_type": "execute_result"
    }
   ],
   "source": [
    "#快速地获取某个标量（与上面的函数相同）\n",
    "df.iat[1,1]"
   ]
  },
  {
   "cell_type": "markdown",
   "metadata": {},
   "source": [
    "* .loc for label based indexing 基于标签取数据\n",
    "* .iloc for positional indexing 基于位置取数据"
   ]
  },
  {
   "cell_type": "code",
   "execution_count": 51,
   "metadata": {},
   "outputs": [
    {
     "data": {
      "text/plain": [
       "2013-01-01    False\n",
       "2013-01-02    False\n",
       "2013-01-03    False\n",
       "2013-01-04     True\n",
       "2013-01-05    False\n",
       "2013-01-06    False\n",
       "Freq: D, Name: A, dtype: bool"
      ]
     },
     "execution_count": 51,
     "metadata": {},
     "output_type": "execute_result"
    }
   ],
   "source": [
    "#布尔索引，使用某列值来选择数据\n",
    "df.A>0\n"
   ]
  },
  {
   "cell_type": "code",
   "execution_count": 52,
   "metadata": {},
   "outputs": [
    {
     "name": "stdout",
     "output_type": "stream",
     "text": [
      "                  A      B         C         D\n",
      "2013-01-04  1.35113  0.882 -0.270051 -0.602641\n"
     ]
    }
   ],
   "source": [
    "print(df[df.A>0]) #可以进行按照条件过滤数据"
   ]
  },
  {
   "cell_type": "code",
   "execution_count": 53,
   "metadata": {},
   "outputs": [
    {
     "name": "stdout",
     "output_type": "stream",
     "text": [
      "                  A         B         C         D\n",
      "2013-01-01      NaN  1.477250  0.702187  0.718655\n",
      "2013-01-02      NaN       NaN       NaN  0.693685\n",
      "2013-01-03      NaN       NaN  0.991036  0.718883\n",
      "2013-01-04  1.35113  0.882000       NaN       NaN\n",
      "2013-01-05      NaN       NaN       NaN       NaN\n",
      "2013-01-06      NaN  0.619125       NaN       NaN\n"
     ]
    }
   ],
   "source": [
    "#从DataFrame中选择满足某条件的数据\n",
    "print(df[df>0])"
   ]
  },
  {
   "cell_type": "code",
   "execution_count": 54,
   "metadata": {},
   "outputs": [],
   "source": [
    "#使用 isin() 函数来过滤"
   ]
  },
  {
   "cell_type": "code",
   "execution_count": 55,
   "metadata": {},
   "outputs": [
    {
     "name": "stdout",
     "output_type": "stream",
     "text": [
      "                   A         B         C         D      E\n",
      "2013-01-01 -0.187258  1.477250  0.702187  0.718655    one\n",
      "2013-01-02 -1.983568 -0.649221 -0.413167  0.693685    one\n",
      "2013-01-03 -0.935931 -0.098597  0.991036  0.718883    two\n",
      "2013-01-04  1.351130  0.882000 -0.270051 -0.602641  three\n",
      "2013-01-05 -0.242269 -0.809428 -0.203380 -0.052366   four\n",
      "2013-01-06 -0.078641  0.619125 -0.631377 -1.537023  three\n",
      "                   A         B         C         D     E\n",
      "2013-01-03 -0.935931 -0.098597  0.991036  0.718883   two\n",
      "2013-01-05 -0.242269 -0.809428 -0.203380 -0.052366  four\n"
     ]
    }
   ],
   "source": [
    "df2=df.copy()\n",
    "df2['E']=['one','one','two','three','four','three']\n",
    "print(df2)\n",
    "print(df2[df2['E'].isin(['two','four'])])"
   ]
  },
  {
   "cell_type": "markdown",
   "metadata": {},
   "source": [
    "#### 设置与修改数据，设置一个新列并设置索引"
   ]
  },
  {
   "cell_type": "code",
   "execution_count": 56,
   "metadata": {},
   "outputs": [
    {
     "data": {
      "text/html": [
       "<div>\n",
       "<style scoped>\n",
       "    .dataframe tbody tr th:only-of-type {\n",
       "        vertical-align: middle;\n",
       "    }\n",
       "\n",
       "    .dataframe tbody tr th {\n",
       "        vertical-align: top;\n",
       "    }\n",
       "\n",
       "    .dataframe thead th {\n",
       "        text-align: right;\n",
       "    }\n",
       "</style>\n",
       "<table border=\"1\" class=\"dataframe\">\n",
       "  <thead>\n",
       "    <tr style=\"text-align: right;\">\n",
       "      <th></th>\n",
       "      <th>A</th>\n",
       "      <th>B</th>\n",
       "      <th>C</th>\n",
       "      <th>D</th>\n",
       "      <th>F</th>\n",
       "    </tr>\n",
       "  </thead>\n",
       "  <tbody>\n",
       "    <tr>\n",
       "      <th>2013-01-01</th>\n",
       "      <td>-0.187258</td>\n",
       "      <td>1.477250</td>\n",
       "      <td>0.702187</td>\n",
       "      <td>0.718655</td>\n",
       "      <td>NaN</td>\n",
       "    </tr>\n",
       "    <tr>\n",
       "      <th>2013-01-02</th>\n",
       "      <td>-1.983568</td>\n",
       "      <td>-0.649221</td>\n",
       "      <td>-0.413167</td>\n",
       "      <td>0.693685</td>\n",
       "      <td>1.0</td>\n",
       "    </tr>\n",
       "    <tr>\n",
       "      <th>2013-01-03</th>\n",
       "      <td>-0.935931</td>\n",
       "      <td>-0.098597</td>\n",
       "      <td>0.991036</td>\n",
       "      <td>0.718883</td>\n",
       "      <td>2.0</td>\n",
       "    </tr>\n",
       "    <tr>\n",
       "      <th>2013-01-04</th>\n",
       "      <td>1.351130</td>\n",
       "      <td>0.882000</td>\n",
       "      <td>-0.270051</td>\n",
       "      <td>-0.602641</td>\n",
       "      <td>3.0</td>\n",
       "    </tr>\n",
       "    <tr>\n",
       "      <th>2013-01-05</th>\n",
       "      <td>-0.242269</td>\n",
       "      <td>-0.809428</td>\n",
       "      <td>-0.203380</td>\n",
       "      <td>-0.052366</td>\n",
       "      <td>4.0</td>\n",
       "    </tr>\n",
       "    <tr>\n",
       "      <th>2013-01-06</th>\n",
       "      <td>-0.078641</td>\n",
       "      <td>0.619125</td>\n",
       "      <td>-0.631377</td>\n",
       "      <td>-1.537023</td>\n",
       "      <td>5.0</td>\n",
       "    </tr>\n",
       "  </tbody>\n",
       "</table>\n",
       "</div>"
      ],
      "text/plain": [
       "                   A         B         C         D    F\n",
       "2013-01-01 -0.187258  1.477250  0.702187  0.718655  NaN\n",
       "2013-01-02 -1.983568 -0.649221 -0.413167  0.693685  1.0\n",
       "2013-01-03 -0.935931 -0.098597  0.991036  0.718883  2.0\n",
       "2013-01-04  1.351130  0.882000 -0.270051 -0.602641  3.0\n",
       "2013-01-05 -0.242269 -0.809428 -0.203380 -0.052366  4.0\n",
       "2013-01-06 -0.078641  0.619125 -0.631377 -1.537023  5.0"
      ]
     },
     "execution_count": 56,
     "metadata": {},
     "output_type": "execute_result"
    }
   ],
   "source": [
    "s1=pd.Series([1,2,3,4,5,6],index=pd.date_range('20130102',periods=6))\n",
    "df['F']=s1\n",
    "df"
   ]
  },
  {
   "cell_type": "code",
   "execution_count": 57,
   "metadata": {},
   "outputs": [
    {
     "name": "stdout",
     "output_type": "stream",
     "text": [
      "                   A         B         C         D    F\n",
      "2013-01-01  0.000000  1.477250  0.702187  0.718655  NaN\n",
      "2013-01-02 -1.983568 -0.649221 -0.413167  0.693685  1.0\n",
      "2013-01-03 -0.935931 -0.098597  0.991036  0.718883  2.0\n",
      "2013-01-04  1.351130  0.882000 -0.270051 -0.602641  3.0\n",
      "2013-01-05 -0.242269 -0.809428 -0.203380 -0.052366  4.0\n",
      "2013-01-06 -0.078641  0.619125 -0.631377 -1.537023  5.0\n"
     ]
    }
   ],
   "source": [
    "#at函数,具体到某个元素，根据指定行index及列label，快速定位DataFrame的元素，选择列时仅支持列名\n",
    "df.at[dates[0],'A']=0\n",
    "print(df)"
   ]
  },
  {
   "cell_type": "code",
   "execution_count": 58,
   "metadata": {},
   "outputs": [
    {
     "name": "stdout",
     "output_type": "stream",
     "text": [
      "                   A         B         C         D    F\n",
      "2013-01-01  0.000000  0.000000  0.702187  0.718655  NaN\n",
      "2013-01-02 -1.983568 -0.649221 -0.413167  0.693685  1.0\n",
      "2013-01-03 -0.935931 -0.098597  0.991036  0.718883  2.0\n",
      "2013-01-04  1.351130  0.882000 -0.270051 -0.602641  3.0\n",
      "2013-01-05 -0.242269 -0.809428 -0.203380 -0.052366  4.0\n",
      "2013-01-06 -0.078641  0.619125 -0.631377 -1.537023  5.0\n"
     ]
    }
   ],
   "source": [
    "#根据位置的来设置值 与at的功能相同，只使用索引参数\n",
    "df.iat[0,1]=0\n",
    "print(df)"
   ]
  },
  {
   "cell_type": "code",
   "execution_count": 59,
   "metadata": {},
   "outputs": [
    {
     "name": "stdout",
     "output_type": "stream",
     "text": [
      "                   A         B         C  D    F\n",
      "2013-01-01  0.000000  0.000000  0.702187  5  NaN\n",
      "2013-01-02 -1.983568 -0.649221 -0.413167  5  1.0\n",
      "2013-01-03 -0.935931 -0.098597  0.991036  5  2.0\n",
      "2013-01-04  1.351130  0.882000 -0.270051  5  3.0\n",
      "2013-01-05 -0.242269 -0.809428 -0.203380  5  4.0\n",
      "2013-01-06 -0.078641  0.619125 -0.631377  5  5.0\n"
     ]
    }
   ],
   "source": [
    "#使用NumPy数组来赋值\n",
    "df.loc[:,'D']=np.array([5]*len(df))\n",
    "print(df)"
   ]
  },
  {
   "cell_type": "code",
   "execution_count": 60,
   "metadata": {},
   "outputs": [],
   "source": [
    "#在过滤的同时进行赋值\n"
   ]
  },
  {
   "cell_type": "code",
   "execution_count": 61,
   "metadata": {},
   "outputs": [
    {
     "name": "stdout",
     "output_type": "stream",
     "text": [
      "                   A         B         C  D    F\n",
      "2013-01-01  0.000000  0.000000 -0.702187 -5  NaN\n",
      "2013-01-02 -1.983568 -0.649221 -0.413167 -5 -1.0\n",
      "2013-01-03 -0.935931 -0.098597 -0.991036 -5 -2.0\n",
      "2013-01-04 -1.351130 -0.882000 -0.270051 -5 -3.0\n",
      "2013-01-05 -0.242269 -0.809428 -0.203380 -5 -4.0\n",
      "2013-01-06 -0.078641 -0.619125 -0.631377 -5 -5.0\n"
     ]
    }
   ],
   "source": [
    "df2=df.copy()\n",
    "df2[df2>0]=-df2\n",
    "print(df2)\n"
   ]
  },
  {
   "cell_type": "markdown",
   "metadata": {},
   "source": [
    "### 处理缺失数据\n",
    "* Pandas主要使用 np.nan 来表示缺失数据。这个值不会加入在计算中。 重新索引允许你对某一轴的索引进行更改/添加/删除操作。这会返回操作数据的拷贝对象。"
   ]
  },
  {
   "cell_type": "code",
   "execution_count": 62,
   "metadata": {},
   "outputs": [
    {
     "data": {
      "text/html": [
       "<div>\n",
       "<style scoped>\n",
       "    .dataframe tbody tr th:only-of-type {\n",
       "        vertical-align: middle;\n",
       "    }\n",
       "\n",
       "    .dataframe tbody tr th {\n",
       "        vertical-align: top;\n",
       "    }\n",
       "\n",
       "    .dataframe thead th {\n",
       "        text-align: right;\n",
       "    }\n",
       "</style>\n",
       "<table border=\"1\" class=\"dataframe\">\n",
       "  <thead>\n",
       "    <tr style=\"text-align: right;\">\n",
       "      <th></th>\n",
       "      <th>A</th>\n",
       "      <th>B</th>\n",
       "      <th>C</th>\n",
       "      <th>D</th>\n",
       "      <th>F</th>\n",
       "      <th>E</th>\n",
       "    </tr>\n",
       "  </thead>\n",
       "  <tbody>\n",
       "    <tr>\n",
       "      <th>2013-01-01</th>\n",
       "      <td>0.000000</td>\n",
       "      <td>0.000000</td>\n",
       "      <td>0.702187</td>\n",
       "      <td>5</td>\n",
       "      <td>NaN</td>\n",
       "      <td>1.0</td>\n",
       "    </tr>\n",
       "    <tr>\n",
       "      <th>2013-01-02</th>\n",
       "      <td>-1.983568</td>\n",
       "      <td>-0.649221</td>\n",
       "      <td>-0.413167</td>\n",
       "      <td>5</td>\n",
       "      <td>1.0</td>\n",
       "      <td>1.0</td>\n",
       "    </tr>\n",
       "    <tr>\n",
       "      <th>2013-01-03</th>\n",
       "      <td>-0.935931</td>\n",
       "      <td>-0.098597</td>\n",
       "      <td>0.991036</td>\n",
       "      <td>5</td>\n",
       "      <td>2.0</td>\n",
       "      <td>NaN</td>\n",
       "    </tr>\n",
       "    <tr>\n",
       "      <th>2013-01-04</th>\n",
       "      <td>1.351130</td>\n",
       "      <td>0.882000</td>\n",
       "      <td>-0.270051</td>\n",
       "      <td>5</td>\n",
       "      <td>3.0</td>\n",
       "      <td>NaN</td>\n",
       "    </tr>\n",
       "  </tbody>\n",
       "</table>\n",
       "</div>"
      ],
      "text/plain": [
       "                   A         B         C  D    F    E\n",
       "2013-01-01  0.000000  0.000000  0.702187  5  NaN  1.0\n",
       "2013-01-02 -1.983568 -0.649221 -0.413167  5  1.0  1.0\n",
       "2013-01-03 -0.935931 -0.098597  0.991036  5  2.0  NaN\n",
       "2013-01-04  1.351130  0.882000 -0.270051  5  3.0  NaN"
      ]
     },
     "execution_count": 62,
     "metadata": {},
     "output_type": "execute_result"
    }
   ],
   "source": [
    "df1=df.reindex(index=dates[0:4],columns=list(df.columns)+['E'])\n",
    "df1.loc[dates[0]:dates[1],'E']=1\n",
    "df1\n"
   ]
  },
  {
   "cell_type": "code",
   "execution_count": 63,
   "metadata": {},
   "outputs": [
    {
     "name": "stdout",
     "output_type": "stream",
     "text": [
      "                   A         B         C  D    F    E\n",
      "2013-01-02 -1.983568 -0.649221 -0.413167  5  1.0  1.0\n"
     ]
    }
   ],
   "source": [
    "#删除含有缺失数据的行\n",
    "# print(df1.dropna(how='all')) #这一行所有值都为空时删除\n",
    "print(df1.dropna(how='any'))#这一行有任意值为空时删除"
   ]
  },
  {
   "cell_type": "code",
   "execution_count": 64,
   "metadata": {},
   "outputs": [
    {
     "name": "stdout",
     "output_type": "stream",
     "text": [
      "                   A         B         C  D\n",
      "2013-01-01  0.000000  0.000000  0.702187  5\n",
      "2013-01-02 -1.983568 -0.649221 -0.413167  5\n",
      "2013-01-03 -0.935931 -0.098597  0.991036  5\n",
      "2013-01-04  1.351130  0.882000 -0.270051  5\n"
     ]
    }
   ],
   "source": [
    "print(df1.dropna(how='any',axis=1)) #删除有空值的列"
   ]
  },
  {
   "cell_type": "code",
   "execution_count": 65,
   "metadata": {},
   "outputs": [
    {
     "name": "stdout",
     "output_type": "stream",
     "text": [
      "2013-01-01    1.0\n",
      "2013-01-02    1.0\n",
      "2013-01-03    5.0\n",
      "2013-01-04    5.0\n",
      "Freq: D, Name: E, dtype: float64\n"
     ]
    }
   ],
   "source": [
    "#填充缺失数据\n",
    "print(df1['E'].fillna(value=5))"
   ]
  },
  {
   "cell_type": "code",
   "execution_count": 66,
   "metadata": {},
   "outputs": [
    {
     "name": "stdout",
     "output_type": "stream",
     "text": [
      "                A      B      C      D      F      E\n",
      "2013-01-01  False  False  False  False   True  False\n",
      "2013-01-02  False  False  False  False  False  False\n",
      "2013-01-03  False  False  False  False  False   True\n",
      "2013-01-04  False  False  False  False  False   True\n"
     ]
    }
   ],
   "source": [
    "#获取数据中是 nan 的位置\n",
    "print(pd.isnull(df1))"
   ]
  },
  {
   "cell_type": "markdown",
   "metadata": {},
   "source": [
    "### 基础操作\n",
    "* 操作默认排除了缺失的数据\n",
    "* 执行一个描述性的统计"
   ]
  },
  {
   "cell_type": "code",
   "execution_count": 67,
   "metadata": {},
   "outputs": [
    {
     "name": "stdout",
     "output_type": "stream",
     "text": [
      "                   A         B         C  D    F\n",
      "2013-01-01  0.000000  0.000000  0.702187  5  NaN\n",
      "2013-01-02 -1.983568 -0.649221 -0.413167  5  1.0\n",
      "2013-01-03 -0.935931 -0.098597  0.991036  5  2.0\n",
      "2013-01-04  1.351130  0.882000 -0.270051  5  3.0\n",
      "2013-01-05 -0.242269 -0.809428 -0.203380  5  4.0\n",
      "2013-01-06 -0.078641  0.619125 -0.631377  5  5.0\n"
     ]
    },
    {
     "data": {
      "text/plain": [
       "A   -0.314880\n",
       "B   -0.009354\n",
       "C    0.029208\n",
       "D    5.000000\n",
       "F    3.000000\n",
       "dtype: float64"
      ]
     },
     "execution_count": 67,
     "metadata": {},
     "output_type": "execute_result"
    }
   ],
   "source": [
    "print(df)\n",
    "df.mean() #默认按列，每一列一般是一种数据类型"
   ]
  },
  {
   "cell_type": "code",
   "execution_count": 68,
   "metadata": {},
   "outputs": [
    {
     "data": {
      "text/plain": [
       "2013-01-01    1.425547\n",
       "2013-01-02    0.590809\n",
       "2013-01-03    1.391302\n",
       "2013-01-04    1.992616\n",
       "2013-01-05    1.548985\n",
       "2013-01-06    1.981821\n",
       "Freq: D, dtype: float64"
      ]
     },
     "execution_count": 68,
     "metadata": {},
     "output_type": "execute_result"
    }
   ],
   "source": [
    "#在另外的轴执行该操作\n",
    "df.mean(1) #横向"
   ]
  },
  {
   "cell_type": "code",
   "execution_count": 69,
   "metadata": {},
   "outputs": [
    {
     "name": "stdout",
     "output_type": "stream",
     "text": [
      "       year   state  pop  debt\n",
      "one    2000    Ohio  1.5    16\n",
      "two    2001    Ohio  1.7    16\n",
      "three  2002    Ohio  3.6    16\n",
      "four   2001  Nevada  2.4    16\n",
      "five   2002  Nevada  2.9    16\n"
     ]
    },
    {
     "data": {
      "text/plain": [
       "one      672.500000\n",
       "two      672.900000\n",
       "three    673.866667\n",
       "four     673.133333\n",
       "five     673.633333\n",
       "dtype: float64"
      ]
     },
     "execution_count": 69,
     "metadata": {},
     "output_type": "execute_result"
    }
   ],
   "source": [
    "print(df3)\n",
    "df3.mean(1) #只对数值型平均"
   ]
  },
  {
   "cell_type": "code",
   "execution_count": 70,
   "metadata": {},
   "outputs": [],
   "source": [
    "#直方图"
   ]
  },
  {
   "cell_type": "code",
   "execution_count": 71,
   "metadata": {},
   "outputs": [
    {
     "name": "stdout",
     "output_type": "stream",
     "text": [
      "0    1\n",
      "1    6\n",
      "2    2\n",
      "3    4\n",
      "4    6\n",
      "5    2\n",
      "6    4\n",
      "7    4\n",
      "8    1\n",
      "9    3\n",
      "dtype: int32\n",
      "4    3\n",
      "6    2\n",
      "2    2\n",
      "1    2\n",
      "3    1\n",
      "dtype: int64\n"
     ]
    }
   ],
   "source": [
    "s=pd.Series(np.random.randint(0,7,size=10))\n",
    "print(s)\n",
    "print(s.value_counts())\n"
   ]
  },
  {
   "cell_type": "markdown",
   "metadata": {},
   "source": [
    "### 数据合并\n",
    "* 用 concat() 组合Pandas数据"
   ]
  },
  {
   "cell_type": "code",
   "execution_count": 72,
   "metadata": {},
   "outputs": [
    {
     "name": "stdout",
     "output_type": "stream",
     "text": [
      "          0         1         2         3\n",
      "0  0.667696  1.513839 -1.140877  0.754055\n",
      "1  0.200048 -0.736367 -1.663947  0.886361\n",
      "2  1.092077  0.261677 -1.337392 -0.632436\n",
      "3 -0.936393 -0.439645  1.018438 -1.404712\n",
      "4 -0.190824  0.226492  1.721437 -0.209724\n",
      "5  0.025385 -1.009981 -0.114218  0.015463\n",
      "6  1.615308  1.843968 -0.010985  1.338515\n",
      "7 -0.213862  0.305935 -0.088689  1.339881\n",
      "8  1.406768  0.924438 -0.983592 -0.341619\n",
      "9 -0.455891  1.353598 -1.145491  0.347585\n",
      "          0         1         2         3\n",
      "0  0.667696  1.513839 -1.140877  0.754055\n",
      "1  0.200048 -0.736367 -1.663947  0.886361\n",
      "2  1.092077  0.261677 -1.337392 -0.632436\n",
      "          0         1         2         3\n",
      "3 -0.936393 -0.439645  1.018438 -1.404712\n",
      "4 -0.190824  0.226492  1.721437 -0.209724\n",
      "5  0.025385 -1.009981 -0.114218  0.015463\n",
      "6  1.615308  1.843968 -0.010985  1.338515\n",
      "          0         1         2         3\n",
      "7 -0.213862  0.305935 -0.088689  1.339881\n",
      "8  1.406768  0.924438 -0.983592 -0.341619\n",
      "9 -0.455891  1.353598 -1.145491  0.347585\n",
      "          0         1         2         3\n",
      "0  0.667696  1.513839 -1.140877  0.754055\n",
      "1  0.200048 -0.736367 -1.663947  0.886361\n",
      "2  1.092077  0.261677 -1.337392 -0.632436\n",
      "3 -0.936393 -0.439645  1.018438 -1.404712\n",
      "4 -0.190824  0.226492  1.721437 -0.209724\n",
      "5  0.025385 -1.009981 -0.114218  0.015463\n",
      "6  1.615308  1.843968 -0.010985  1.338515\n",
      "7 -0.213862  0.305935 -0.088689  1.339881\n",
      "8  1.406768  0.924438 -0.983592 -0.341619\n",
      "9 -0.455891  1.353598 -1.145491  0.347585\n"
     ]
    }
   ],
   "source": [
    "df=pd.DataFrame(np.random.randn(10,4))\n",
    "print(df)\n",
    "pieces=[df[:3],df[3:7],df[7:]] #按行拆分\n",
    "print(pieces[0])\n",
    "print(pieces[1])\n",
    "print(pieces[2])\n",
    "print(pd.concat(pieces)) #拼接还原"
   ]
  },
  {
   "cell_type": "code",
   "execution_count": 73,
   "metadata": {},
   "outputs": [
    {
     "name": "stdout",
     "output_type": "stream",
     "text": [
      "   key  lval\n",
      "0  foo     1\n",
      "1  foo     2\n",
      "   key  rval\n",
      "0  foo     4\n",
      "1  foo     5\n",
      "   key  lval  rval\n",
      "0  foo     1     4\n",
      "1  foo     1     5\n",
      "2  foo     2     4\n",
      "3  foo     2     5\n"
     ]
    }
   ],
   "source": [
    "#数据合并 Merge\n",
    "left=pd.DataFrame({'key':['foo','foo'],'lval':[1,2]})\n",
    "right=pd.DataFrame({'key':['foo','foo'],'rval':[4,5]})\n",
    "print(left)\n",
    "print(right)\n",
    "print(pd.merge(left,right,on='key'))\n"
   ]
  },
  {
   "cell_type": "code",
   "execution_count": 74,
   "metadata": {},
   "outputs": [
    {
     "name": "stdout",
     "output_type": "stream",
     "text": [
      "          A         B         C         D\n",
      "0 -0.162655  0.950681 -1.759328  0.881482\n",
      "1  0.681675 -0.070377 -0.760990 -2.084893\n",
      "2 -0.089134 -1.364462 -0.856607  0.884205\n",
      "3  0.940402  1.377665  0.161855 -1.051240\n",
      "4  2.153469 -0.263901  0.049402  1.801031\n",
      "5 -1.250023 -0.966097 -0.880252  1.606974\n",
      "6 -0.354015 -0.170306  0.271992 -0.042403\n",
      "7 -0.218661 -0.101692 -0.383635  2.084491\n",
      "          A         B         C         D\n",
      "0 -0.162655  0.950681 -1.759328  0.881482\n",
      "1  0.681675 -0.070377 -0.760990 -2.084893\n",
      "2 -0.089134 -1.364462 -0.856607  0.884205\n",
      "3  0.940402  1.377665  0.161855 -1.051240\n",
      "4  2.153469 -0.263901  0.049402  1.801031\n",
      "5 -1.250023 -0.966097 -0.880252  1.606974\n",
      "6 -0.354015 -0.170306  0.271992 -0.042403\n",
      "7 -0.218661 -0.101692 -0.383635  2.084491\n",
      "8  0.940402  1.377665  0.161855 -1.051240\n"
     ]
    }
   ],
   "source": [
    "#添加数据（Append）\n",
    "df=pd.DataFrame(np.random.randn(8,4),columns=['A','B','C','D'])\n",
    "print(df)\n",
    "s=df.iloc[3]\n",
    "print(df.append(s,ignore_index=True))\n"
   ]
  },
  {
   "cell_type": "markdown",
   "metadata": {},
   "source": [
    "### 分组\n",
    "#### 分组包含以下的一个或多个流程：\n",
    "* 分组 根据某种标准分组数据\n",
    "* 应用 对每个组应用一个函数\n",
    "* 组合 把分组的结果组合成一个整体结构"
   ]
  },
  {
   "cell_type": "code",
   "execution_count": 75,
   "metadata": {},
   "outputs": [
    {
     "name": "stdout",
     "output_type": "stream",
     "text": [
      "     A      B         C         D\n",
      "0  foo    one -1.572273 -0.948513\n",
      "1  bar    one -0.152223  0.404779\n",
      "2  foo    two  0.193067  0.211730\n",
      "3  bar  three -0.608555 -0.285899\n",
      "4  foo    two -0.409146  1.587642\n",
      "5  bar    two  0.066686  0.929854\n",
      "6  foo    one  1.356747 -1.789818\n",
      "7  foo  three -0.197487 -1.483634\n"
     ]
    }
   ],
   "source": [
    "df=pd.DataFrame({'A':['foo','bar','foo','bar','foo','bar','foo','foo'],\n",
    "                 'B' : ['one', 'one', 'two', 'three','two', 'two', 'one', 'three'],\n",
    "                 'C' : np.random.randn(8),\n",
    "                 'D' : np.random.randn(8)})\n",
    "print(df)"
   ]
  },
  {
   "cell_type": "code",
   "execution_count": 76,
   "metadata": {},
   "outputs": [
    {
     "name": "stdout",
     "output_type": "stream",
     "text": [
      "              C         D\n",
      "B                        \n",
      "one   -0.367749 -2.333551\n",
      "three -0.806042 -1.769533\n",
      "two   -0.149393  2.729227\n"
     ]
    }
   ],
   "source": [
    "#分组并对分组后的结果求和\n",
    "print(df.groupby(['B']).sum())"
   ]
  },
  {
   "cell_type": "code",
   "execution_count": 77,
   "metadata": {},
   "outputs": [
    {
     "data": {
      "text/html": [
       "<div>\n",
       "<style scoped>\n",
       "    .dataframe tbody tr th:only-of-type {\n",
       "        vertical-align: middle;\n",
       "    }\n",
       "\n",
       "    .dataframe tbody tr th {\n",
       "        vertical-align: top;\n",
       "    }\n",
       "\n",
       "    .dataframe thead th {\n",
       "        text-align: right;\n",
       "    }\n",
       "</style>\n",
       "<table border=\"1\" class=\"dataframe\">\n",
       "  <thead>\n",
       "    <tr style=\"text-align: right;\">\n",
       "      <th></th>\n",
       "      <th>A</th>\n",
       "      <th>B</th>\n",
       "      <th>C</th>\n",
       "      <th>D</th>\n",
       "    </tr>\n",
       "  </thead>\n",
       "  <tbody>\n",
       "    <tr>\n",
       "      <th>0</th>\n",
       "      <td>foo</td>\n",
       "      <td>one</td>\n",
       "      <td>-1.572273</td>\n",
       "      <td>-0.948513</td>\n",
       "    </tr>\n",
       "    <tr>\n",
       "      <th>1</th>\n",
       "      <td>bar</td>\n",
       "      <td>one</td>\n",
       "      <td>-0.152223</td>\n",
       "      <td>0.404779</td>\n",
       "    </tr>\n",
       "    <tr>\n",
       "      <th>6</th>\n",
       "      <td>foo</td>\n",
       "      <td>one</td>\n",
       "      <td>1.356747</td>\n",
       "      <td>-1.789818</td>\n",
       "    </tr>\n",
       "  </tbody>\n",
       "</table>\n",
       "</div>"
      ],
      "text/plain": [
       "     A    B         C         D\n",
       "0  foo  one -1.572273 -0.948513\n",
       "1  bar  one -0.152223  0.404779\n",
       "6  foo  one  1.356747 -1.789818"
      ]
     },
     "execution_count": 77,
     "metadata": {},
     "output_type": "execute_result"
    }
   ],
   "source": [
    "df_group= df.groupby('B') #分组\n",
    "dataframe1=df_group.get_group('one') #取 B==‘one’的分组为一个新的dataframe\n",
    "dataframe1"
   ]
  },
  {
   "cell_type": "code",
   "execution_count": 78,
   "metadata": {},
   "outputs": [
    {
     "data": {
      "text/html": [
       "<div>\n",
       "<style scoped>\n",
       "    .dataframe tbody tr th:only-of-type {\n",
       "        vertical-align: middle;\n",
       "    }\n",
       "\n",
       "    .dataframe tbody tr th {\n",
       "        vertical-align: top;\n",
       "    }\n",
       "\n",
       "    .dataframe thead th {\n",
       "        text-align: right;\n",
       "    }\n",
       "</style>\n",
       "<table border=\"1\" class=\"dataframe\">\n",
       "  <thead>\n",
       "    <tr style=\"text-align: right;\">\n",
       "      <th></th>\n",
       "      <th>A</th>\n",
       "      <th>B</th>\n",
       "      <th>C</th>\n",
       "      <th>D</th>\n",
       "    </tr>\n",
       "  </thead>\n",
       "  <tbody>\n",
       "    <tr>\n",
       "      <th>2</th>\n",
       "      <td>foo</td>\n",
       "      <td>two</td>\n",
       "      <td>0.193067</td>\n",
       "      <td>0.211730</td>\n",
       "    </tr>\n",
       "    <tr>\n",
       "      <th>4</th>\n",
       "      <td>foo</td>\n",
       "      <td>two</td>\n",
       "      <td>-0.409146</td>\n",
       "      <td>1.587642</td>\n",
       "    </tr>\n",
       "    <tr>\n",
       "      <th>5</th>\n",
       "      <td>bar</td>\n",
       "      <td>two</td>\n",
       "      <td>0.066686</td>\n",
       "      <td>0.929854</td>\n",
       "    </tr>\n",
       "  </tbody>\n",
       "</table>\n",
       "</div>"
      ],
      "text/plain": [
       "     A    B         C         D\n",
       "2  foo  two  0.193067  0.211730\n",
       "4  foo  two -0.409146  1.587642\n",
       "5  bar  two  0.066686  0.929854"
      ]
     },
     "execution_count": 78,
     "metadata": {},
     "output_type": "execute_result"
    }
   ],
   "source": [
    "dataframe2=df_group.get_group('two') #取 B==‘two’的分组为一个新的dataframe， 你可以根据新的dataframe选数据\n",
    "dataframe2"
   ]
  },
  {
   "cell_type": "code",
   "execution_count": 79,
   "metadata": {},
   "outputs": [
    {
     "name": "stdout",
     "output_type": "stream",
     "text": [
      "                  C         D\n",
      "A   B                        \n",
      "bar one   -0.152223  0.404779\n",
      "    three -0.608555 -0.285899\n",
      "    two    0.066686  0.929854\n",
      "foo one   -0.215527 -2.738331\n",
      "    three -0.197487 -1.483634\n",
      "    two   -0.216079  1.799372\n"
     ]
    }
   ],
   "source": [
    "#根据多个列进行分组可以如下操作\n",
    "print(df.groupby(['A','B']).sum())"
   ]
  },
  {
   "cell_type": "markdown",
   "metadata": {},
   "source": [
    "### 时间序列\n",
    "* Pandas拥有易用、强大且高效的方法来在频率变换中执行重采样操作（例如：把秒级别的数据转换成5分钟级别的数据）。这通常在金融应用中使用，但不仅限于金融应用。"
   ]
  },
  {
   "cell_type": "code",
   "execution_count": 82,
   "metadata": {},
   "outputs": [
    {
     "data": {
      "text/plain": [
       "pandas.core.indexes.datetimes.DatetimeIndex"
      ]
     },
     "execution_count": 82,
     "metadata": {},
     "output_type": "execute_result"
    }
   ],
   "source": [
    "rng=pd.date_range('1/1/2012',periods=100,freq='S') # 构造一个日期序列， 开始 1/1/2012 ， 100个时间点, 频率S 表示秒\n",
    "type(rng)\n",
    "#print(rng)\n",
    "#ts=pd.Series(np.random.randint(0,500,len(rng)),index=rng) #构造一个随机数序列 长度100\n",
    "#print(ts.head(5))"
   ]
  },
  {
   "cell_type": "code",
   "execution_count": 118,
   "metadata": {},
   "outputs": [
    {
     "data": {
      "text/plain": [
       "2012-01-01 00:00:00    1419\n",
       "2012-01-01 00:00:05    1148\n",
       "2012-01-01 00:00:10    1551\n",
       "2012-01-01 00:00:15    1319\n",
       "2012-01-01 00:00:20     950\n",
       "2012-01-01 00:00:25    1950\n",
       "2012-01-01 00:00:30    1698\n",
       "2012-01-01 00:00:35     962\n",
       "2012-01-01 00:00:40    1075\n",
       "2012-01-01 00:00:45    1408\n",
       "2012-01-01 00:00:50     942\n",
       "2012-01-01 00:00:55     594\n",
       "2012-01-01 00:01:00    1505\n",
       "2012-01-01 00:01:05     751\n",
       "2012-01-01 00:01:10    1538\n",
       "2012-01-01 00:01:15    1140\n",
       "2012-01-01 00:01:20    1646\n",
       "2012-01-01 00:01:25    1583\n",
       "2012-01-01 00:01:30    1748\n",
       "2012-01-01 00:01:35    1193\n",
       "Freq: 5S, dtype: int32"
      ]
     },
     "execution_count": 118,
     "metadata": {},
     "output_type": "execute_result"
    }
   ],
   "source": [
    "ts_sample=ts.resample('5S').sum() #按照5秒重采样 聚合， sum表示采样后按求和运算\n",
    "ts_sample\n"
   ]
  },
  {
   "cell_type": "code",
   "execution_count": 119,
   "metadata": {},
   "outputs": [
    {
     "name": "stdout",
     "output_type": "stream",
     "text": [
      "2012-03-06    1.097002\n",
      "2012-03-07   -0.103764\n",
      "2012-03-08    0.099653\n",
      "2012-03-09    1.040034\n",
      "2012-03-10   -1.667730\n",
      "Freq: D, dtype: float64\n"
     ]
    },
    {
     "data": {
      "text/plain": [
       "2012-03-06 00:00:00+00:00    1.097002\n",
       "2012-03-07 00:00:00+00:00   -0.103764\n",
       "2012-03-08 00:00:00+00:00    0.099653\n",
       "2012-03-09 00:00:00+00:00    1.040034\n",
       "2012-03-10 00:00:00+00:00   -1.667730\n",
       "Freq: D, dtype: float64"
      ]
     },
     "execution_count": 119,
     "metadata": {},
     "output_type": "execute_result"
    }
   ],
   "source": [
    "#表现时区\n",
    "rng=pd.date_range('3/6/2012 00:00',periods=5,freq='D')\n",
    "ts=pd.Series(np.random.randn(len(rng)),rng)\n",
    "print(ts)\n",
    "ts_utc=ts.tz_localize('UTC')\n",
    "ts_utc"
   ]
  },
  {
   "cell_type": "code",
   "execution_count": 121,
   "metadata": {},
   "outputs": [
    {
     "data": {
      "text/plain": [
       "2012-03-05 19:00:00-05:00    1.097002\n",
       "2012-03-06 19:00:00-05:00   -0.103764\n",
       "2012-03-07 19:00:00-05:00    0.099653\n",
       "2012-03-08 19:00:00-05:00    1.040034\n",
       "2012-03-09 19:00:00-05:00   -1.667730\n",
       "Freq: D, dtype: float64"
      ]
     },
     "execution_count": 121,
     "metadata": {},
     "output_type": "execute_result"
    }
   ],
   "source": [
    "#转换到其他时区\n",
    "ts_utc.tz_convert('US/Eastern')"
   ]
  },
  {
   "cell_type": "code",
   "execution_count": null,
   "metadata": {},
   "outputs": [],
   "source": []
  },
  {
   "cell_type": "code",
   "execution_count": 122,
   "metadata": {},
   "outputs": [
    {
     "name": "stdout",
     "output_type": "stream",
     "text": [
      "2012-01-01 00:00:00    0.763188\n",
      "2012-01-01 00:00:01    1.284397\n",
      "2012-01-01 00:00:02   -0.205818\n",
      "2012-01-01 00:00:03    0.346027\n",
      "2012-01-01 00:00:04    1.235024\n",
      "Freq: S, dtype: float64\n",
      "2012-01-01 00:00:00    0.763188\n",
      "2012-01-01 00:00:01    1.284397\n",
      "2012-01-01 00:00:02   -0.205818\n",
      "2012-01-01 00:00:03    0.346027\n",
      "2012-01-01 00:00:04    1.235024\n",
      "Freq: S, dtype: float64\n"
     ]
    }
   ],
   "source": [
    "#转换时间间隔的表现形式\n",
    "rng=pd.date_range('1/1/2012',periods=5,freq='S')\n",
    "ts=pd.Series(np.random.randn(len(rng)),index=rng)\n",
    "print(ts)\n",
    "ps=ts.to_period()\n",
    "print(ps)"
   ]
  },
  {
   "cell_type": "code",
   "execution_count": 123,
   "metadata": {},
   "outputs": [
    {
     "data": {
      "text/plain": [
       "2012-01    0.763188\n",
       "2012-01    1.284397\n",
       "2012-01   -0.205818\n",
       "2012-01    0.346027\n",
       "2012-01    1.235024\n",
       "Freq: M, dtype: float64"
      ]
     },
     "execution_count": 123,
     "metadata": {},
     "output_type": "execute_result"
    }
   ],
   "source": [
    "ts.to_period('M') # Q M D"
   ]
  },
  {
   "cell_type": "markdown",
   "metadata": {},
   "source": [
    "### 绘图"
   ]
  },
  {
   "cell_type": "code",
   "execution_count": 124,
   "metadata": {},
   "outputs": [
    {
     "data": {
      "text/plain": [
       "<matplotlib.axes._subplots.AxesSubplot at 0x1b948c18f28>"
      ]
     },
     "execution_count": 124,
     "metadata": {},
     "output_type": "execute_result"
    },
    {
     "data": {
      "image/png": "[encoded data removed]",
      "text/plain": [
       "<Figure size 432x288 with 1 Axes>"
      ]
     },
     "metadata": {
      "needs_background": "light"
     },
     "output_type": "display_data"
    }
   ],
   "source": [
    "import matplotlib.pyplot as plt\n",
    "%matplotlib inline\n",
    "ts=pd.Series(np.random.randn(1000),index=pd.date_range('1/1/2000',periods=1000))\n",
    "ts=ts.cumsum()\n",
    "ts.plot()\n"
   ]
  },
  {
   "cell_type": "code",
   "execution_count": 125,
   "metadata": {},
   "outputs": [
    {
     "data": {
      "text/plain": [
       "<matplotlib.axes._subplots.AxesSubplot at 0x1b948f71f98>"
      ]
     },
     "execution_count": 125,
     "metadata": {},
     "output_type": "execute_result"
    },
    {
     "data": {
      "image/png": "[encoded data removed]",
      "text/plain": [
       "<Figure size 432x288 with 1 Axes>"
      ]
     },
     "metadata": {
      "needs_background": "light"
     },
     "output_type": "display_data"
    }
   ],
   "source": [
    "#在DataFrame上， plot() 是一个函数可以方便地对数据的每个列进行绘图\n",
    "df=pd.DataFrame(np.random.randn(1000,4),index=ts.index,columns=['A','B','C','D'])\n",
    "df=df.cumsum()\n",
    "df.plot()\n"
   ]
  },
  {
   "cell_type": "markdown",
   "metadata": {},
   "source": [
    "### 数据获取与导出"
   ]
  },
  {
   "cell_type": "code",
   "execution_count": 126,
   "metadata": {},
   "outputs": [],
   "source": [
    "df1.to_csv('foo.csv')"
   ]
  },
  {
   "cell_type": "code",
   "execution_count": 127,
   "metadata": {},
   "outputs": [
    {
     "name": "stdout",
     "output_type": "stream",
     "text": [
      "   Unnamed: 0         A         B         C  D    F    E\n",
      "0  2013-01-01  0.000000  0.000000  1.160794  5  NaN  1.0\n",
      "1  2013-01-02 -0.642162  1.403680 -1.497278  5  1.0  1.0\n",
      "2  2013-01-03 -1.970682 -0.242796 -0.738724  5  2.0  NaN\n",
      "3  2013-01-04 -1.785571 -1.994271 -1.217884  5  3.0  NaN\n"
     ]
    },
    {
     "data": {
      "text/html": [
       "<div>\n",
       "<style scoped>\n",
       "    .dataframe tbody tr th:only-of-type {\n",
       "        vertical-align: middle;\n",
       "    }\n",
       "\n",
       "    .dataframe tbody tr th {\n",
       "        vertical-align: top;\n",
       "    }\n",
       "\n",
       "    .dataframe thead th {\n",
       "        text-align: right;\n",
       "    }\n",
       "</style>\n",
       "<table border=\"1\" class=\"dataframe\">\n",
       "  <thead>\n",
       "    <tr style=\"text-align: right;\">\n",
       "      <th></th>\n",
       "      <th>Unnamed: 0</th>\n",
       "      <th>A</th>\n",
       "      <th>B</th>\n",
       "      <th>C</th>\n",
       "      <th>D</th>\n",
       "      <th>F</th>\n",
       "      <th>E</th>\n",
       "    </tr>\n",
       "  </thead>\n",
       "  <tbody>\n",
       "    <tr>\n",
       "      <th>0</th>\n",
       "      <td>2013-01-01</td>\n",
       "      <td>0.000000</td>\n",
       "      <td>0.000000</td>\n",
       "      <td>1.160794</td>\n",
       "      <td>5</td>\n",
       "      <td>NaN</td>\n",
       "      <td>1.0</td>\n",
       "    </tr>\n",
       "    <tr>\n",
       "      <th>1</th>\n",
       "      <td>2013-01-02</td>\n",
       "      <td>-0.642162</td>\n",
       "      <td>1.403680</td>\n",
       "      <td>-1.497278</td>\n",
       "      <td>5</td>\n",
       "      <td>1.0</td>\n",
       "      <td>1.0</td>\n",
       "    </tr>\n",
       "    <tr>\n",
       "      <th>2</th>\n",
       "      <td>2013-01-03</td>\n",
       "      <td>-1.970682</td>\n",
       "      <td>-0.242796</td>\n",
       "      <td>-0.738724</td>\n",
       "      <td>5</td>\n",
       "      <td>2.0</td>\n",
       "      <td>NaN</td>\n",
       "    </tr>\n",
       "    <tr>\n",
       "      <th>3</th>\n",
       "      <td>2013-01-04</td>\n",
       "      <td>-1.785571</td>\n",
       "      <td>-1.994271</td>\n",
       "      <td>-1.217884</td>\n",
       "      <td>5</td>\n",
       "      <td>3.0</td>\n",
       "      <td>NaN</td>\n",
       "    </tr>\n",
       "  </tbody>\n",
       "</table>\n",
       "</div>"
      ],
      "text/plain": [
       "   Unnamed: 0         A         B         C  D    F    E\n",
       "0  2013-01-01  0.000000  0.000000  1.160794  5  NaN  1.0\n",
       "1  2013-01-02 -0.642162  1.403680 -1.497278  5  1.0  1.0\n",
       "2  2013-01-03 -1.970682 -0.242796 -0.738724  5  2.0  NaN\n",
       "3  2013-01-04 -1.785571 -1.994271 -1.217884  5  3.0  NaN"
      ]
     },
     "execution_count": 127,
     "metadata": {},
     "output_type": "execute_result"
    }
   ],
   "source": [
    "df=pd.read_csv('foo.csv')\n",
    "print(df[:10])\n",
    "df"
   ]
  },
  {
   "cell_type": "markdown",
   "metadata": {},
   "source": [
    "### Excel\n",
    "* 生成Excel文件（需要安装openpyxl库 pip3 install openpyxl ）"
   ]
  },
  {
   "cell_type": "code",
   "execution_count": null,
   "metadata": {},
   "outputs": [],
   "source": [
    "#df.to_excel('foo.xlsx',sheet_name='Sheet01')"
   ]
  },
  {
   "cell_type": "code",
   "execution_count": null,
   "metadata": {},
   "outputs": [],
   "source": [
    "#print(pd.read_excel('foo.xlsx', 'Sheet01', index_col=None, na_values=['NA'])[:10])"
   ]
  }
 ],
 "metadata": {
  "kernelspec": {
   "display_name": "Python 3",
   "language": "python",
   "name": "python3"
  },
  "language_info": {
   "codemirror_mode": {
    "name": "ipython",
    "version": 3
   },
   "file_extension": ".py",
   "mimetype": "text/x-python",
   "name": "python",
   "nbconvert_exporter": "python",
   "pygments_lexer": "ipython3",
   "version": "3.7.3"
  }
 },
 "nbformat": 4,
 "nbformat_minor": 2
}
